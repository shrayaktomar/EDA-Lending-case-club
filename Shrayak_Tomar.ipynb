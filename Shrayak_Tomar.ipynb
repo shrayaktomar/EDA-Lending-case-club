{
 "cells": [
  {
   "cell_type": "markdown",
   "id": "e3c1dbe4",
   "metadata": {},
   "source": [
    "# EDA : LEADING CLUB LENDING CASE"
   ]
  },
  {
   "cell_type": "markdown",
   "id": "47c2f383",
   "metadata": {},
   "source": [
    "## Importing the Libraries and Loading the data"
   ]
  },
  {
   "cell_type": "code",
   "execution_count": 1,
   "id": "0b2cda79",
   "metadata": {},
   "outputs": [],
   "source": [
    "#importing all the libraries\n",
    "import numpy as np\n",
    "import pandas as pd\n",
    "import matplotlib.pyplot as plt"
   ]
  },
  {
   "cell_type": "code",
   "execution_count": 2,
   "id": "2b56e469",
   "metadata": {},
   "outputs": [],
   "source": [
    "#Loading the data into the pandas library\n",
    "loan_df=pd.read_csv(\"loan.csv\",low_memory=False)"
   ]
  },
  {
   "cell_type": "markdown",
   "id": "29678244",
   "metadata": {},
   "source": [
    "Let us check the size, shape and metadata about the data"
   ]
  },
  {
   "cell_type": "code",
   "execution_count": 3,
   "id": "1d33dd77",
   "metadata": {},
   "outputs": [
    {
     "name": "stdout",
     "output_type": "stream",
     "text": [
      "the shape of the dataframe is:\n",
      "\t  (39717, 111)\n",
      "\n",
      "\n",
      "\n",
      "the len of the dataframe is\n",
      "\t   39717\n"
     ]
    }
   ],
   "source": [
    "print(\"the shape of the dataframe is:\\n\\t \",loan_df.shape)\n",
    "print(\"\\n\\n\")\n",
    "print(\"the len of the dataframe is\\n\\t  \",len(loan_df))"
   ]
  },
  {
   "cell_type": "code",
   "execution_count": 4,
   "id": "33ae74fd",
   "metadata": {},
   "outputs": [
    {
     "name": "stdout",
     "output_type": "stream",
     "text": [
      "<class 'pandas.core.frame.DataFrame'>\n",
      "RangeIndex: 39717 entries, 0 to 39716\n",
      "Columns: 111 entries, id to total_il_high_credit_limit\n",
      "dtypes: float64(74), int64(13), object(24)\n",
      "memory usage: 33.6+ MB\n"
     ]
    }
   ],
   "source": [
    "loan_df.info()"
   ]
  },
  {
   "cell_type": "markdown",
   "id": "671a0311",
   "metadata": {},
   "source": [
    "## Data Cleaning and Data Manipulation\n",
    "\n",
    "now check all the columns for all the nan values\n",
    "the recent python libraries just ignore the nan values hance we are encouraged to keep the data as is but as we are doing expolratory data analysis hence the extracolumns which have all the nan values are just taking up space and make my mannual analysis difficult.\n",
    "simply put i have reduced tghe column so i can have a better understanding of the remaninng column."
   ]
  },
  {
   "cell_type": "code",
   "execution_count": 5,
   "id": "dfa4cabd",
   "metadata": {},
   "outputs": [
    {
     "name": "stdout",
     "output_type": "stream",
     "text": [
      "list of all columns that are all null:\n",
      "['mths_since_last_major_derog', 'annual_inc_joint', 'dti_joint', 'verification_status_joint', 'tot_coll_amt', 'tot_cur_bal', 'open_acc_6m', 'open_il_6m', 'open_il_12m', 'open_il_24m', 'mths_since_rcnt_il', 'total_bal_il', 'il_util', 'open_rv_12m', 'open_rv_24m', 'max_bal_bc', 'all_util', 'total_rev_hi_lim', 'inq_fi', 'total_cu_tl', 'inq_last_12m', 'acc_open_past_24mths', 'avg_cur_bal', 'bc_open_to_buy', 'bc_util', 'mo_sin_old_il_acct', 'mo_sin_old_rev_tl_op', 'mo_sin_rcnt_rev_tl_op', 'mo_sin_rcnt_tl', 'mort_acc', 'mths_since_recent_bc', 'mths_since_recent_bc_dlq', 'mths_since_recent_inq', 'mths_since_recent_revol_delinq', 'num_accts_ever_120_pd', 'num_actv_bc_tl', 'num_actv_rev_tl', 'num_bc_sats', 'num_bc_tl', 'num_il_tl', 'num_op_rev_tl', 'num_rev_accts', 'num_rev_tl_bal_gt_0', 'num_sats', 'num_tl_120dpd_2m', 'num_tl_30dpd', 'num_tl_90g_dpd_24m', 'num_tl_op_past_12m', 'pct_tl_nvr_dlq', 'percent_bc_gt_75', 'tot_hi_cred_lim', 'total_bal_ex_mort', 'total_bc_limit', 'total_il_high_credit_limit']\n",
      "\n",
      "\n",
      "the length of the columns having only Nan values 54\n"
     ]
    }
   ],
   "source": [
    "list1=loan_df.isna().all()\n",
    "list1=list(list1[list1==True].index)\n",
    "print(\"list of all columns that are all null:\")\n",
    "print(list1)\n",
    "print(\"\\n\")\n",
    "print(\"the length of the columns having only Nan values\",len(list1))"
   ]
  },
  {
   "cell_type": "markdown",
   "id": "39604637",
   "metadata": {},
   "source": [
    "so the above columns will be droped form the dataframe you can do this in multiple ways \n",
    "1. df.drop\n",
    "2. df.dropna"
   ]
  },
  {
   "cell_type": "code",
   "execution_count": 6,
   "id": "238f0715",
   "metadata": {},
   "outputs": [
    {
     "name": "stdout",
     "output_type": "stream",
     "text": [
      "(39717, 57)\n"
     ]
    }
   ],
   "source": [
    "#dropping all the columns where all hte values are Nan\n",
    "loan_df.dropna(axis=1,how=\"all\",inplace=True)\n",
    "#where the whole row is empty\n",
    "loan_df.dropna(axis=0,how=\"all\",inplace=True)\n",
    "#all the row is filled with some or the other value\n",
    "print(loan_df.shape)"
   ]
  },
  {
   "cell_type": "markdown",
   "id": "7c2bf895",
   "metadata": {},
   "source": [
    "#### Dropping the value current form the target variable loan_status"
   ]
  },
  {
   "cell_type": "code",
   "execution_count": 7,
   "id": "452139de",
   "metadata": {},
   "outputs": [],
   "source": [
    "alist=loan_df[loan_df[\"loan_status\"]==\"Current\"].index"
   ]
  },
  {
   "cell_type": "code",
   "execution_count": 8,
   "id": "9b9c28a3",
   "metadata": {},
   "outputs": [],
   "source": [
    "loan_df.drop(alist,inplace=True)"
   ]
  },
  {
   "cell_type": "markdown",
   "id": "6adc01f1",
   "metadata": {},
   "source": [
    "#### Removing the columns with only 1 unique values"
   ]
  },
  {
   "cell_type": "markdown",
   "id": "33bfb828",
   "metadata": {},
   "source": [
    "but before dropping we will make a subset of the all the columns if later on we need it at all"
   ]
  },
  {
   "cell_type": "code",
   "execution_count": 9,
   "id": "4a360fef",
   "metadata": {
    "scrolled": true
   },
   "outputs": [
    {
     "data": {
      "text/plain": [
       "id                            38577\n",
       "member_id                     38577\n",
       "loan_amnt                       870\n",
       "funded_amnt                    1019\n",
       "funded_amnt_inv                8050\n",
       "term                              2\n",
       "int_rate                        370\n",
       "installment                   15022\n",
       "grade                             7\n",
       "sub_grade                        35\n",
       "emp_title                     28027\n",
       "emp_length                       11\n",
       "home_ownership                    5\n",
       "annual_inc                     5215\n",
       "verification_status               3\n",
       "issue_d                          55\n",
       "loan_status                       2\n",
       "pymnt_plan                        1\n",
       "url                           38577\n",
       "desc                          25803\n",
       "purpose                          14\n",
       "title                         19297\n",
       "zip_code                        822\n",
       "addr_state                       50\n",
       "dti                            2853\n",
       "delinq_2yrs                      11\n",
       "earliest_cr_line                524\n",
       "inq_last_6mths                    9\n",
       "mths_since_last_delinq           95\n",
       "mths_since_last_record          111\n",
       "open_acc                         40\n",
       "pub_rec                           5\n",
       "revol_bal                     21275\n",
       "revol_util                     1088\n",
       "total_acc                        82\n",
       "initial_list_status               1\n",
       "out_prncp                         1\n",
       "out_prncp_inv                     1\n",
       "total_pymnt                   36714\n",
       "total_pymnt_inv               36387\n",
       "total_rec_prncp                6841\n",
       "total_rec_int                 34025\n",
       "total_rec_late_fee             1320\n",
       "recoveries                     4040\n",
       "collection_recovery_fee        2616\n",
       "last_pymnt_d                    101\n",
       "last_pymnt_amnt               34418\n",
       "next_pymnt_d                      0\n",
       "last_credit_pull_d              106\n",
       "collections_12_mths_ex_med        1\n",
       "policy_code                       1\n",
       "application_type                  1\n",
       "acc_now_delinq                    1\n",
       "chargeoff_within_12_mths          1\n",
       "delinq_amnt                       1\n",
       "pub_rec_bankruptcies              3\n",
       "tax_liens                         1\n",
       "dtype: int64"
      ]
     },
     "execution_count": 9,
     "metadata": {},
     "output_type": "execute_result"
    }
   ],
   "source": [
    "loan_df.nunique()"
   ]
  },
  {
   "cell_type": "code",
   "execution_count": 10,
   "id": "292171a8",
   "metadata": {},
   "outputs": [
    {
     "name": "stdout",
     "output_type": "stream",
     "text": [
      "11\n"
     ]
    },
    {
     "name": "stderr",
     "output_type": "stream",
     "text": [
      "C:\\Users\\shray\\AppData\\Local\\Temp/ipykernel_18232/1136680104.py:9: UserWarning: DataFrame columns are not unique, some columns will be omitted.\n",
      "  datad_dict=datadict.set_index(\"LoanStatNew\").T.to_dict()\n"
     ]
    }
   ],
   "source": [
    "list1=loan_df.nunique()\n",
    "list1=list(list1[list1==1].index)   # --> list1 consists of all the not unique column names\n",
    "print(len(list1))\n",
    "\n",
    "\n",
    "#loadin the data into the data frame\n",
    "datadict=pd.read_excel(\"Data_Dictionary.xlsx\")\n",
    "#reading the data dictionary into the datadict so as to reference the description\n",
    "datad_dict=datadict.set_index(\"LoanStatNew\").T.to_dict()\n",
    "#sub data frame consisting of no unique values so we can use it later if required\n",
    "sub_df=loan_df[list1]\n",
    "# Dropping the not unique variables from the data set\n",
    "loan_df.drop(columns=list1,inplace=True)"
   ]
  },
  {
   "cell_type": "markdown",
   "id": "5f9dad77",
   "metadata": {},
   "source": [
    "so here is the Variable that weren't unique and thier description"
   ]
  },
  {
   "cell_type": "code",
   "execution_count": 11,
   "id": "b8093d6a",
   "metadata": {
    "scrolled": true
   },
   "outputs": [
    {
     "name": "stdout",
     "output_type": "stream",
     "text": [
      "pymnt_plan : {'Description': 'Indicates if a payment plan has been put in place for the loan'}\n",
      "initial_list_status : {'Description': 'The initial listing status of the loan. Possible values are – W, F'}\n",
      "out_prncp : {'Description': 'Remaining outstanding principal for total amount funded'}\n",
      "out_prncp_inv : {'Description': 'Remaining outstanding principal for portion of total amount funded by investors'}\n",
      "collections_12_mths_ex_med : {'Description': 'Number of collections in 12 months excluding medical collections'}\n",
      "policy_code : {'Description': 'publicly available policy_code=1\\nnew products not publicly available policy_code=2'}\n",
      "application_type : {'Description': 'Indicates whether the loan is an individual application or a joint application with two co-borrowers'}\n",
      "acc_now_delinq : {'Description': 'The number of accounts on which the borrower is now delinquent.'}\n",
      "chargeoff_within_12_mths : {'Description': 'Number of charge-offs within 12 months'}\n",
      "delinq_amnt : {'Description': 'The past-due amount owed for the accounts on which the borrower is now delinquent.'}\n",
      "tax_liens : {'Description': 'Number of tax liens'}\n"
     ]
    }
   ],
   "source": [
    "#just to check what is what\n",
    "for i in list1:\n",
    "    print(i,\":\",datad_dict[i])      #---> just a simple for loop to read out the description of the not unique columns"
   ]
  },
  {
   "cell_type": "markdown",
   "id": "b01e7651",
   "metadata": {},
   "source": [
    "#### The Metadata for the Data frame"
   ]
  },
  {
   "cell_type": "code",
   "execution_count": 12,
   "id": "ecf0d693",
   "metadata": {
    "scrolled": true
   },
   "outputs": [
    {
     "name": "stdout",
     "output_type": "stream",
     "text": [
      "<class 'pandas.core.frame.DataFrame'>\n",
      "Int64Index: 38577 entries, 0 to 39716\n",
      "Data columns (total 46 columns):\n",
      " #   Column                   Non-Null Count  Dtype  \n",
      "---  ------                   --------------  -----  \n",
      " 0   id                       38577 non-null  int64  \n",
      " 1   member_id                38577 non-null  int64  \n",
      " 2   loan_amnt                38577 non-null  int64  \n",
      " 3   funded_amnt              38577 non-null  int64  \n",
      " 4   funded_amnt_inv          38577 non-null  float64\n",
      " 5   term                     38577 non-null  object \n",
      " 6   int_rate                 38577 non-null  object \n",
      " 7   installment              38577 non-null  float64\n",
      " 8   grade                    38577 non-null  object \n",
      " 9   sub_grade                38577 non-null  object \n",
      " 10  emp_title                36191 non-null  object \n",
      " 11  emp_length               37544 non-null  object \n",
      " 12  home_ownership           38577 non-null  object \n",
      " 13  annual_inc               38577 non-null  float64\n",
      " 14  verification_status      38577 non-null  object \n",
      " 15  issue_d                  38577 non-null  object \n",
      " 16  loan_status              38577 non-null  object \n",
      " 17  url                      38577 non-null  object \n",
      " 18  desc                     26050 non-null  object \n",
      " 19  purpose                  38577 non-null  object \n",
      " 20  title                    38566 non-null  object \n",
      " 21  zip_code                 38577 non-null  object \n",
      " 22  addr_state               38577 non-null  object \n",
      " 23  dti                      38577 non-null  float64\n",
      " 24  delinq_2yrs              38577 non-null  int64  \n",
      " 25  earliest_cr_line         38577 non-null  object \n",
      " 26  inq_last_6mths           38577 non-null  int64  \n",
      " 27  mths_since_last_delinq   13672 non-null  float64\n",
      " 28  mths_since_last_record   2740 non-null   float64\n",
      " 29  open_acc                 38577 non-null  int64  \n",
      " 30  pub_rec                  38577 non-null  int64  \n",
      " 31  revol_bal                38577 non-null  int64  \n",
      " 32  revol_util               38527 non-null  object \n",
      " 33  total_acc                38577 non-null  int64  \n",
      " 34  total_pymnt              38577 non-null  float64\n",
      " 35  total_pymnt_inv          38577 non-null  float64\n",
      " 36  total_rec_prncp          38577 non-null  float64\n",
      " 37  total_rec_int            38577 non-null  float64\n",
      " 38  total_rec_late_fee       38577 non-null  float64\n",
      " 39  recoveries               38577 non-null  float64\n",
      " 40  collection_recovery_fee  38577 non-null  float64\n",
      " 41  last_pymnt_d             38506 non-null  object \n",
      " 42  last_pymnt_amnt          38577 non-null  float64\n",
      " 43  next_pymnt_d             0 non-null      object \n",
      " 44  last_credit_pull_d       38575 non-null  object \n",
      " 45  pub_rec_bankruptcies     37880 non-null  float64\n",
      "dtypes: float64(15), int64(10), object(21)\n",
      "memory usage: 13.8+ MB\n"
     ]
    }
   ],
   "source": [
    "loan_df.info()"
   ]
  },
  {
   "cell_type": "markdown",
   "id": "69859402",
   "metadata": {},
   "source": [
    "Upon further review of the dictionary we can drop\n",
    "url,desc,emp_title,issue_d,zipcode,last_pymnt_d,last_pymnt_amnt,next_pymnt_d\n",
    "these columns are not required for our analysis"
   ]
  },
  {
   "cell_type": "code",
   "execution_count": 13,
   "id": "213faba5",
   "metadata": {},
   "outputs": [],
   "source": [
    "column_drop=[\"url\",\"desc\",\"emp_title\",\"issue_d\",\"zip_code\",\"last_pymnt_d\",\"last_pymnt_amnt\",\"next_pymnt_d\",\"mths_since_last_delinq\",\"mths_since_last_record\"]\n",
    "loan_df.drop(columns=column_drop,inplace=True)"
   ]
  },
  {
   "cell_type": "markdown",
   "id": "9d31a9b0",
   "metadata": {},
   "source": [
    "#### Standardizing and converting the values"
   ]
  },
  {
   "cell_type": "markdown",
   "id": "6103f263",
   "metadata": {},
   "source": [
    "Standardizing and Converting the values of the columns:<br>\n",
    " 1.emp_length<br>\n",
    " 2.int_rate"
   ]
  },
  {
   "cell_type": "code",
   "execution_count": 14,
   "id": "bc5002ef",
   "metadata": {
    "scrolled": false
   },
   "outputs": [],
   "source": [
    "# standardizing th emp_lengrth\n",
    "loan_df[\"emp_length\"].fillna(loan_df[\"emp_length\"].mode()[0],inplace=True)\n",
    "loan_df[\"emp_length\"]=[i.split()[1] if \"<\" in i else i.split()[0] for i in loan_df[\"emp_length\"]]"
   ]
  },
  {
   "cell_type": "code",
   "execution_count": 15,
   "id": "5e6e71e3",
   "metadata": {
    "scrolled": true
   },
   "outputs": [],
   "source": [
    "loan_df[\"emp_length\"]=[\"10\" if \"+\" in i else i for i in loan_df[\"emp_length\"]] "
   ]
  },
  {
   "cell_type": "code",
   "execution_count": 16,
   "id": "ff648835",
   "metadata": {},
   "outputs": [
    {
     "data": {
      "text/plain": [
       "0        10\n",
       "1         1\n",
       "2        10\n",
       "3        10\n",
       "5         3\n",
       "         ..\n",
       "39712     4\n",
       "39713     3\n",
       "39714     1\n",
       "39715     1\n",
       "39716     1\n",
       "Name: emp_length, Length: 38577, dtype: object"
      ]
     },
     "execution_count": 16,
     "metadata": {},
     "output_type": "execute_result"
    }
   ],
   "source": [
    "loan_df[\"emp_length\"]"
   ]
  },
  {
   "cell_type": "code",
   "execution_count": 17,
   "id": "ffa50dec",
   "metadata": {},
   "outputs": [
    {
     "data": {
      "text/plain": [
       "0        10.65%\n",
       "1        15.27%\n",
       "2        15.96%\n",
       "3        13.49%\n",
       "5         7.90%\n",
       "          ...  \n",
       "39712     8.07%\n",
       "39713    10.28%\n",
       "39714     8.07%\n",
       "39715     7.43%\n",
       "39716    13.75%\n",
       "Name: int_rate, Length: 38577, dtype: object"
      ]
     },
     "execution_count": 17,
     "metadata": {},
     "output_type": "execute_result"
    }
   ],
   "source": [
    "loan_df[\"int_rate\"]"
   ]
  },
  {
   "cell_type": "code",
   "execution_count": 18,
   "id": "447ea573",
   "metadata": {},
   "outputs": [],
   "source": [
    "loan_df[\"int_rate\"]=[float(i[:-1]) for i in loan_df[\"int_rate\"]]"
   ]
  },
  {
   "cell_type": "code",
   "execution_count": 19,
   "id": "5897457c",
   "metadata": {},
   "outputs": [
    {
     "data": {
      "text/plain": [
       "0        10.65\n",
       "1        15.27\n",
       "2        15.96\n",
       "3        13.49\n",
       "5         7.90\n",
       "         ...  \n",
       "39712     8.07\n",
       "39713    10.28\n",
       "39714     8.07\n",
       "39715     7.43\n",
       "39716    13.75\n",
       "Name: int_rate, Length: 38577, dtype: float64"
      ]
     },
     "execution_count": 19,
     "metadata": {},
     "output_type": "execute_result"
    }
   ],
   "source": [
    "loan_df[\"int_rate\"]"
   ]
  },
  {
   "cell_type": "code",
   "execution_count": 20,
   "id": "7ed0ca0f",
   "metadata": {},
   "outputs": [
    {
     "name": "stdout",
     "output_type": "stream",
     "text": [
      "<class 'pandas.core.frame.DataFrame'>\n",
      "Int64Index: 38577 entries, 0 to 39716\n",
      "Data columns (total 36 columns):\n",
      " #   Column                   Non-Null Count  Dtype  \n",
      "---  ------                   --------------  -----  \n",
      " 0   id                       38577 non-null  int64  \n",
      " 1   member_id                38577 non-null  int64  \n",
      " 2   loan_amnt                38577 non-null  int64  \n",
      " 3   funded_amnt              38577 non-null  int64  \n",
      " 4   funded_amnt_inv          38577 non-null  float64\n",
      " 5   term                     38577 non-null  object \n",
      " 6   int_rate                 38577 non-null  float64\n",
      " 7   installment              38577 non-null  float64\n",
      " 8   grade                    38577 non-null  object \n",
      " 9   sub_grade                38577 non-null  object \n",
      " 10  emp_length               38577 non-null  object \n",
      " 11  home_ownership           38577 non-null  object \n",
      " 12  annual_inc               38577 non-null  float64\n",
      " 13  verification_status      38577 non-null  object \n",
      " 14  loan_status              38577 non-null  object \n",
      " 15  purpose                  38577 non-null  object \n",
      " 16  title                    38566 non-null  object \n",
      " 17  addr_state               38577 non-null  object \n",
      " 18  dti                      38577 non-null  float64\n",
      " 19  delinq_2yrs              38577 non-null  int64  \n",
      " 20  earliest_cr_line         38577 non-null  object \n",
      " 21  inq_last_6mths           38577 non-null  int64  \n",
      " 22  open_acc                 38577 non-null  int64  \n",
      " 23  pub_rec                  38577 non-null  int64  \n",
      " 24  revol_bal                38577 non-null  int64  \n",
      " 25  revol_util               38527 non-null  object \n",
      " 26  total_acc                38577 non-null  int64  \n",
      " 27  total_pymnt              38577 non-null  float64\n",
      " 28  total_pymnt_inv          38577 non-null  float64\n",
      " 29  total_rec_prncp          38577 non-null  float64\n",
      " 30  total_rec_int            38577 non-null  float64\n",
      " 31  total_rec_late_fee       38577 non-null  float64\n",
      " 32  recoveries               38577 non-null  float64\n",
      " 33  collection_recovery_fee  38577 non-null  float64\n",
      " 34  last_credit_pull_d       38575 non-null  object \n",
      " 35  pub_rec_bankruptcies     37880 non-null  float64\n",
      "dtypes: float64(13), int64(10), object(13)\n",
      "memory usage: 10.9+ MB\n"
     ]
    }
   ],
   "source": [
    "loan_df.info()#--> just to check finally before diving in analysis"
   ]
  },
  {
   "cell_type": "markdown",
   "id": "c0a71705",
   "metadata": {},
   "source": [
    "### Univariate Analysis"
   ]
  },
  {
   "cell_type": "markdown",
   "id": "59427a06",
   "metadata": {},
   "source": [
    "So let us begin our Univariate Analysis<br>\n",
    "first finding out wehther the columns \"loan_amnt\" and \"finded_amnt\"<br>\n",
    "are the same or not"
   ]
  },
  {
   "cell_type": "code",
   "execution_count": 21,
   "id": "adf7e5a3",
   "metadata": {},
   "outputs": [],
   "source": [
    "# finding out whether loan_amnt and fund_amt are equal\n",
    "a=loan_df[\"loan_amnt\"]==loan_df[\"funded_amnt\"]\n",
    "a=list(a[a==False].index)"
   ]
  },
  {
   "cell_type": "code",
   "execution_count": 22,
   "id": "51eef39f",
   "metadata": {
    "scrolled": false
   },
   "outputs": [
    {
     "data": {
      "text/html": [
       "<div>\n",
       "<style scoped>\n",
       "    .dataframe tbody tr th:only-of-type {\n",
       "        vertical-align: middle;\n",
       "    }\n",
       "\n",
       "    .dataframe tbody tr th {\n",
       "        vertical-align: top;\n",
       "    }\n",
       "\n",
       "    .dataframe thead th {\n",
       "        text-align: right;\n",
       "    }\n",
       "</style>\n",
       "<table border=\"1\" class=\"dataframe\">\n",
       "  <thead>\n",
       "    <tr style=\"text-align: right;\">\n",
       "      <th></th>\n",
       "      <th>loan_amnt</th>\n",
       "      <th>funded_amnt</th>\n",
       "    </tr>\n",
       "  </thead>\n",
       "  <tbody>\n",
       "    <tr>\n",
       "      <th>61</th>\n",
       "      <td>17500</td>\n",
       "      <td>8950</td>\n",
       "    </tr>\n",
       "    <tr>\n",
       "      <th>66</th>\n",
       "      <td>12500</td>\n",
       "      <td>8925</td>\n",
       "    </tr>\n",
       "    <tr>\n",
       "      <th>70</th>\n",
       "      <td>20975</td>\n",
       "      <td>13575</td>\n",
       "    </tr>\n",
       "    <tr>\n",
       "      <th>77</th>\n",
       "      <td>7250</td>\n",
       "      <td>7200</td>\n",
       "    </tr>\n",
       "    <tr>\n",
       "      <th>80</th>\n",
       "      <td>35000</td>\n",
       "      <td>22075</td>\n",
       "    </tr>\n",
       "    <tr>\n",
       "      <th>...</th>\n",
       "      <td>...</td>\n",
       "      <td>...</td>\n",
       "    </tr>\n",
       "    <tr>\n",
       "      <th>39533</th>\n",
       "      <td>10000</td>\n",
       "      <td>6000</td>\n",
       "    </tr>\n",
       "    <tr>\n",
       "      <th>39593</th>\n",
       "      <td>20000</td>\n",
       "      <td>4800</td>\n",
       "    </tr>\n",
       "    <tr>\n",
       "      <th>39600</th>\n",
       "      <td>4000</td>\n",
       "      <td>1000</td>\n",
       "    </tr>\n",
       "    <tr>\n",
       "      <th>39601</th>\n",
       "      <td>12000</td>\n",
       "      <td>5000</td>\n",
       "    </tr>\n",
       "    <tr>\n",
       "      <th>39611</th>\n",
       "      <td>25000</td>\n",
       "      <td>5650</td>\n",
       "    </tr>\n",
       "  </tbody>\n",
       "</table>\n",
       "<p>1757 rows × 2 columns</p>\n",
       "</div>"
      ],
      "text/plain": [
       "       loan_amnt  funded_amnt\n",
       "61         17500         8950\n",
       "66         12500         8925\n",
       "70         20975        13575\n",
       "77          7250         7200\n",
       "80         35000        22075\n",
       "...          ...          ...\n",
       "39533      10000         6000\n",
       "39593      20000         4800\n",
       "39600       4000         1000\n",
       "39601      12000         5000\n",
       "39611      25000         5650\n",
       "\n",
       "[1757 rows x 2 columns]"
      ]
     },
     "execution_count": 22,
     "metadata": {},
     "output_type": "execute_result"
    }
   ],
   "source": [
    "loan_df.loc[a,[\"loan_amnt\",\"funded_amnt\"]]"
   ]
  },
  {
   "cell_type": "markdown",
   "id": "b401ff59",
   "metadata": {},
   "source": [
    "So this shows us that the values aren't same"
   ]
  },
  {
   "cell_type": "code",
   "execution_count": 23,
   "id": "214c7e71",
   "metadata": {},
   "outputs": [],
   "source": [
    "a=loan_df[\"loan_amnt\"].value_counts()#--> checkinbg for unique values in loan"
   ]
  },
  {
   "cell_type": "code",
   "execution_count": 24,
   "id": "fee318c0",
   "metadata": {},
   "outputs": [
    {
     "data": {
      "text/plain": [
       "10000    2809\n",
       "12000    2248\n",
       "5000     2028\n",
       "6000     1886\n",
       "15000    1838\n",
       "         ... \n",
       "18325       1\n",
       "9650        1\n",
       "20450       1\n",
       "15425       1\n",
       "22550       1\n",
       "Name: loan_amnt, Length: 870, dtype: int64"
      ]
     },
     "execution_count": 24,
     "metadata": {},
     "output_type": "execute_result"
    }
   ],
   "source": [
    "a"
   ]
  },
  {
   "cell_type": "markdown",
   "id": "bae44510",
   "metadata": {},
   "source": [
    "Univariate analusis of the loan amount"
   ]
  },
  {
   "cell_type": "code",
   "execution_count": 25,
   "id": "68f504a7",
   "metadata": {
    "scrolled": true
   },
   "outputs": [
    {
     "data": {
      "image/png": "[encoded data removed]",
      "text/plain": [
       "<Figure size 432x288 with 1 Axes>"
      ]
     },
     "metadata": {
      "needs_background": "light"
     },
     "output_type": "display_data"
    },
    {
     "name": "stdout",
     "output_type": "stream",
     "text": [
      "\n",
      "\n",
      "\n",
      "\n",
      "\n",
      "Information about loan amount\n",
      "the lowest amount of loan provided is : 500\n",
      "the highest amount of loan provided is : 35000\n",
      "the median amount of the loan provided is : 9600.0\n",
      "the 25% amount of the loan provided is : 5300.0\n",
      "the 75% amount of the loan provided is : 15000.0\n"
     ]
    }
   ],
   "source": [
    "out1,bins,out3=plt.hist(loan_df[\"loan_amnt\"],bins=30,edgecolor=\"black\",color=\"blue\")\n",
    "plt.title(\"Histogram PLot of loan amount given by the lending club case\",fontdict={\"fontsize\":18,\"fontweight\":7,\"color\":\"Green\"})\n",
    "plt.xlabel(\"loan amount\",fontdict={\"fontsize\":18,\"fontweight\":5,'color':\"black\"})\n",
    "plt.ylabel(\"Number of loan provided by the club\",fontdict={\"fontsize\":12,\"fontweight\":5,'color':\"black\"})\n",
    "plt.xticks(bins,rotation=90)\n",
    "plt.savefig(\"loan amount hist.jpeg\",bbox_inches='tight')\n",
    "plt.show()\n",
    "\n",
    "\n",
    "print(\"\\n\\n\\n\\n\")\n",
    "print(\"Information about loan amount\")\n",
    "print(\"the lowest amount of loan provided is :\",loan_df[\"loan_amnt\"].min())\n",
    "print(\"the highest amount of loan provided is :\",loan_df[\"loan_amnt\"].max())\n",
    "print(\"the median amount of the loan provided is :\",np.quantile(sorted(loan_df[\"loan_amnt\"]),0.5))\n",
    "print(\"the 25% amount of the loan provided is :\",np.quantile(sorted(loan_df[\"loan_amnt\"]),0.25))\n",
    "print(\"the 75% amount of the loan provided is :\",np.quantile(sorted(loan_df[\"loan_amnt\"]),0.75))\n"
   ]
  },
  {
   "cell_type": "markdown",
   "id": "21b3a00f",
   "metadata": {},
   "source": [
    "checkin whether both the id and member_id are all unique<br>\n",
    "or there is a person who has taken many loans"
   ]
  },
  {
   "cell_type": "code",
   "execution_count": 26,
   "id": "592aff0a",
   "metadata": {},
   "outputs": [
    {
     "data": {
      "text/plain": [
       "1077501    1\n",
       "562133     1\n",
       "558545     1\n",
       "562256     1\n",
       "562224     1\n",
       "          ..\n",
       "774290     1\n",
       "774295     1\n",
       "772732     1\n",
       "774265     1\n",
       "87023      1\n",
       "Name: id, Length: 38577, dtype: int64"
      ]
     },
     "execution_count": 26,
     "metadata": {},
     "output_type": "execute_result"
    }
   ],
   "source": [
    "loan_df[\"id\"].value_counts()"
   ]
  },
  {
   "cell_type": "code",
   "execution_count": 27,
   "id": "0d7995f0",
   "metadata": {},
   "outputs": [
    {
     "data": {
      "text/plain": [
       "1296599    1\n",
       "723395     1\n",
       "719001     1\n",
       "723527     1\n",
       "723494     1\n",
       "          ..\n",
       "976453     1\n",
       "976458     1\n",
       "974723     1\n",
       "976427     1\n",
       "86999      1\n",
       "Name: member_id, Length: 38577, dtype: int64"
      ]
     },
     "execution_count": 27,
     "metadata": {},
     "output_type": "execute_result"
    }
   ],
   "source": [
    "loan_df[\"member_id\"].value_counts()"
   ]
  },
  {
   "cell_type": "markdown",
   "id": "22c114f3",
   "metadata": {},
   "source": [
    "so the id amd memeber_id are all unique elements and hence we know that there is only one loan per account"
   ]
  },
  {
   "cell_type": "markdown",
   "id": "fe49bfbf",
   "metadata": {},
   "source": [
    "Univariate analysis of the \"funded_amnt\" and \"funded_amnt_inv\" "
   ]
  },
  {
   "cell_type": "code",
   "execution_count": 28,
   "id": "d59836ad",
   "metadata": {
    "scrolled": true
   },
   "outputs": [
    {
     "data": {
      "image/png": "[encoded data removed]",
      "text/plain": [
       "<Figure size 432x288 with 1 Axes>"
      ]
     },
     "metadata": {
      "needs_background": "light"
     },
     "output_type": "display_data"
    },
    {
     "name": "stdout",
     "output_type": "stream",
     "text": [
      "\n",
      "\n",
      "\n",
      "\n",
      "\n",
      "Information about funded amount\n",
      "the lowest amount of fund provided is : 500\n",
      "the highest amount of fund provided is : 35000\n",
      "the median amount of the fund provided is : 9550.0\n",
      "the 25 percentile amount of the fund provided is : 5200.0\n",
      "the 75 percetile  amount of the fund provided is : 15000.0\n"
     ]
    }
   ],
   "source": [
    "out1,bins,out3=plt.hist(loan_df[\"funded_amnt\"],bins=30,edgecolor=\"black\",color=\"blue\")\n",
    "plt.title(\"Histogram PLot of funded amount given by the lending club case\",fontdict={\"fontsize\":18,\"fontweight\":7,\"color\":\"Green\"})\n",
    "plt.xlabel(\"Funded amount\",fontdict={\"fontsize\":18,\"fontweight\":5,'color':\"black\"})\n",
    "plt.ylabel(\"Number of loans funded by the club\",fontdict={\"fontsize\":12,\"fontweight\":5,'color':\"black\"})\n",
    "plt.xticks(bins,rotation=90)\n",
    "plt.show()\n",
    "\n",
    "\n",
    "print(\"\\n\\n\\n\\n\")\n",
    "print(\"Information about funded amount\")\n",
    "print(\"the lowest amount of fund provided is :\",loan_df[\"funded_amnt\"].min())\n",
    "print(\"the highest amount of fund provided is :\",loan_df[\"funded_amnt\"].max())\n",
    "print(\"the median amount of the fund provided is :\",np.quantile(sorted(loan_df[\"funded_amnt\"]),0.5))\n",
    "print(\"the 25 percentile amount of the fund provided is :\",np.quantile(sorted(loan_df[\"funded_amnt\"]),0.25))\n",
    "print(\"the 75 percetile  amount of the fund provided is :\",np.quantile(sorted(loan_df[\"funded_amnt\"]),0.75))"
   ]
  },
  {
   "cell_type": "markdown",
   "id": "6d7e94c1",
   "metadata": {},
   "source": [
    "Now the univariate analysisof the funded amount investor"
   ]
  },
  {
   "cell_type": "code",
   "execution_count": 29,
   "id": "7f5940a3",
   "metadata": {},
   "outputs": [
    {
     "data": {
      "image/png": "[encoded data removed]",
      "text/plain": [
       "<Figure size 432x288 with 1 Axes>"
      ]
     },
     "metadata": {
      "needs_background": "light"
     },
     "output_type": "display_data"
    },
    {
     "name": "stdout",
     "output_type": "stream",
     "text": [
      "\n",
      "\n",
      "\n",
      "\n",
      "\n",
      "Information about funded amount investors\n",
      "the lowest amount of loan provided is : 0.0\n",
      "the highest amount of loan provided is : 35000.0\n",
      "the median amount of the loan provided is : 8733.44\n",
      "the 25% amount of the loan provided is : 5000.0\n",
      "the 75% amount of the loan provided is : 14000.0\n"
     ]
    }
   ],
   "source": [
    "out1,bins,out3=plt.hist(loan_df[\"funded_amnt_inv\"],bins=30,edgecolor=\"black\",color=\"blue\")\n",
    "plt.title(\"Histogram PLot of loan amount given by the lending club case\",fontdict={\"fontsize\":18,\"fontweight\":7,\"color\":\"Green\"},pad=20)\n",
    "plt.xlabel(\"loan amount\",fontdict={\"fontsize\":18,\"fontweight\":5,'color':\"black\"})\n",
    "plt.ylabel(\"Number of loan funded amount investors\",fontdict={\"fontsize\":12,\"fontweight\":5,'color':\"black\"})\n",
    "plt.xticks(bins,rotation=90)\n",
    "plt.show()\n",
    "\n",
    "\n",
    "print(\"\\n\\n\\n\\n\")\n",
    "print(\"Information about funded amount investors\")\n",
    "print(\"the lowest amount of loan provided is :\",loan_df[\"funded_amnt_inv\"].min())\n",
    "print(\"the highest amount of loan provided is :\",loan_df[\"funded_amnt_inv\"].max())\n",
    "print(\"the median amount of the loan provided is :\",np.quantile(sorted(loan_df[\"funded_amnt_inv\"]),0.5))\n",
    "print(\"the 25% amount of the loan provided is :\",np.quantile(sorted(loan_df[\"funded_amnt_inv\"]),0.25))\n",
    "print(\"the 75% amount of the loan provided is :\",np.quantile(sorted(loan_df[\"funded_amnt_inv\"]),0.75))"
   ]
  },
  {
   "cell_type": "markdown",
   "id": "16dbd4ab",
   "metadata": {},
   "source": [
    "the three varaibles consisting of loan_amount, Funded_amount, Funded_amount_investors<br>\n",
    "so no suprises there "
   ]
  },
  {
   "cell_type": "code",
   "execution_count": 30,
   "id": "f688d94e",
   "metadata": {},
   "outputs": [
    {
     "data": {
      "image/png": "[encoded data removed]",
      "text/plain": [
       "<Figure size 432x288 with 1 Axes>"
      ]
     },
     "metadata": {
      "needs_background": "light"
     },
     "output_type": "display_data"
    }
   ],
   "source": [
    "a=loan_df[\"term\"].value_counts()\n",
    "plt.bar(a.index,a)\n",
    "plt.title(\"Loan Term\",fontdict={\"fontsize\":15,\"fontweight\":7,\"color\":\"green\"})\n",
    "plt.xlabel(\"Terms in months\",fontdict={\"fontsize\":12,\"fontweight\":5,\"color\":\"black\"})\n",
    "plt.ylabel(\"Number of loans\",fontdict={\"fontsize\":12,\"fontweight\":5,\"color\":\"black\"})\n",
    "plt.savefig(\"Loan term.jpeg\")\n",
    "plt.show()"
   ]
  },
  {
   "cell_type": "markdown",
   "id": "9fa3b0c9",
   "metadata": {},
   "source": [
    "so the most of the loan items is given for 3 years rather then 5 years "
   ]
  },
  {
   "cell_type": "markdown",
   "id": "e862c842",
   "metadata": {},
   "source": [
    "### Univariate Analysis of interest rate"
   ]
  },
  {
   "cell_type": "code",
   "execution_count": 31,
   "id": "4fae58da",
   "metadata": {},
   "outputs": [
    {
     "data": {
      "image/png": "[encoded data removed]",
      "text/plain": [
       "<Figure size 432x288 with 1 Axes>"
      ]
     },
     "metadata": {
      "needs_background": "light"
     },
     "output_type": "display_data"
    },
    {
     "name": "stdout",
     "output_type": "stream",
     "text": [
      "\n",
      "\n",
      "\n",
      "\n",
      "\n",
      "Information about Interest Rate\n",
      "the lowest interest rate  is : 5.42\n",
      "the highes interest rate  is : 24.4\n",
      "the median amount of the loan provided is : 11.71\n",
      "the 25 percentile of the loan provided is : 8.94\n",
      "the 75 percemntile of the interest rate : 14.38\n"
     ]
    }
   ],
   "source": [
    "out1,bins1,out3=plt.hist(loan_df[\"int_rate\"],bins=10,edgecolor=\"black\",color=\"blue\")\n",
    "plt.title(\"Loan Interest\",fontdict={\"fontsize\":18,\"fontweight\":8,\"color\":\"green\"})\n",
    "plt.xlabel(\"Interest Rates\",fontdict={\"fontsize\":12,\"fontweight\":5,\"color\":\"black\"})\n",
    "plt.ylabel(\"Numbr of loans\",fontdict={\"fontsize\":12,\"fontweight\":5,\"color\":\"black\"})\n",
    "plt.xticks(bins1,rotation=90)\n",
    "plt.savefig(\"Interest rate.jpeg\",bbox_inches='tight')\n",
    "plt.show()\n",
    "\n",
    "\n",
    "\n",
    "print(\"\\n\\n\\n\\n\")\n",
    "print(\"Information about Interest Rate\")\n",
    "print(\"the lowest interest rate  is :\",loan_df[\"int_rate\"].min())\n",
    "print(\"the highes interest rate  is :\",loan_df[\"int_rate\"].max())\n",
    "print(\"the median amount of the loan provided is :\",np.quantile(sorted(loan_df[\"int_rate\"]),0.5))\n",
    "print(\"the 25 percentile of the loan provided is :\",np.quantile(sorted(loan_df[\"int_rate\"]),0.25))\n",
    "print(\"the 75 percemntile of the interest rate :\",np.quantile(sorted(loan_df[\"int_rate\"]),0.75))"
   ]
  },
  {
   "cell_type": "markdown",
   "id": "0495bc56",
   "metadata": {},
   "source": [
    "### Univariate Analysis installments"
   ]
  },
  {
   "cell_type": "code",
   "execution_count": 32,
   "id": "477e1bb7",
   "metadata": {},
   "outputs": [
    {
     "data": {
      "image/png": "[encoded data removed]",
      "text/plain": [
       "<Figure size 432x288 with 1 Axes>"
      ]
     },
     "metadata": {
      "needs_background": "light"
     },
     "output_type": "display_data"
    },
    {
     "name": "stdout",
     "output_type": "stream",
     "text": [
      "\n",
      "\n",
      "\n",
      "\n",
      "\n",
      "Information about Interest Rate\n",
      "the lowest interest rate  is : 5.42\n",
      "the highes interest rate  is : 24.4\n",
      "the median amount of the loan provided is : 11.71\n",
      "the 25 percentile of the loan provided is : 8.94\n",
      "the 75 percemntile of the interest rate : 14.38\n"
     ]
    }
   ],
   "source": [
    "out1,bins1,out3=plt.hist(loan_df[\"int_rate\"],bins=10,edgecolor=\"black\",color=\"blue\")\n",
    "plt.title(\"Loan Interest\",fontdict={\"fontsize\":18,\"fontweight\":8,\"color\":\"green\"})\n",
    "plt.xlabel(\"Interest Rates\",fontdict={\"fontsize\":12,\"fontweight\":5,\"color\":\"black\"})\n",
    "plt.ylabel(\"Numbr of loans\",fontdict={\"fontsize\":12,\"fontweight\":5,\"color\":\"black\"})\n",
    "plt.xticks(bins1,rotation=90)\n",
    "\n",
    "plt.show()\n",
    "\n",
    "\n",
    "\n",
    "print(\"\\n\\n\\n\\n\")\n",
    "print(\"Information about Interest Rate\")\n",
    "print(\"the lowest interest rate  is :\",loan_df[\"int_rate\"].min())\n",
    "print(\"the highes interest rate  is :\",loan_df[\"int_rate\"].max())\n",
    "print(\"the median amount of the loan provided is :\",np.quantile(sorted(loan_df[\"int_rate\"]),0.5))\n",
    "print(\"the 25 percentile of the loan provided is :\",np.quantile(sorted(loan_df[\"int_rate\"]),0.25))\n",
    "print(\"the 75 percemntile of the interest rate :\",np.quantile(sorted(loan_df[\"int_rate\"]),0.75))"
   ]
  },
  {
   "cell_type": "code",
   "execution_count": 33,
   "id": "b0d13580",
   "metadata": {},
   "outputs": [
    {
     "data": {
      "image/png": "[encoded data removed]",
      "text/plain": [
       "<Figure size 432x288 with 1 Axes>"
      ]
     },
     "metadata": {
      "needs_background": "light"
     },
     "output_type": "display_data"
    },
    {
     "name": "stdout",
     "output_type": "stream",
     "text": [
      "\n",
      "\n",
      "\n",
      "\n",
      "\n",
      "Information about Interest Rate\n",
      "the lowest installment is : 15.69\n",
      "the highes installment is : 1305.19\n",
      "the median amount of the installment is : 277.86\n",
      "the 25 percentile of the installment is : 165.74\n",
      "the 75 percemntile of the installment : 425.55\n"
     ]
    }
   ],
   "source": [
    "out1,bins1,out3=plt.hist(loan_df[\"installment\"],bins=10,edgecolor=\"black\",color=\"blue\")\n",
    "plt.title(\"Installment\",fontdict={\"fontsize\":18,\"fontweight\":8,\"color\":\"green\"})\n",
    "plt.xlabel(\"Installment\",fontdict={\"fontsize\":12,\"fontweight\":5,\"color\":\"black\"})\n",
    "plt.ylabel(\"Number of loans\",fontdict={\"fontsize\":12,\"fontweight\":5,\"color\":\"black\"})\n",
    "plt.xticks(bins1,rotation=90)\n",
    "plt.savefig(\"Installment.jpeg\",bbox_inches=\"tight\")\n",
    "plt.show()\n",
    "\n",
    "\n",
    "\n",
    "print(\"\\n\\n\\n\\n\")\n",
    "print(\"Information about Interest Rate\")\n",
    "print(\"the lowest installment is :\",loan_df[\"installment\"].min())\n",
    "print(\"the highes installment is :\",loan_df[\"installment\"].max())\n",
    "print(\"the median amount of the installment is :\",np.quantile(sorted(loan_df[\"installment\"]),0.5))\n",
    "print(\"the 25 percentile of the installment is :\",np.quantile(sorted(loan_df[\"installment\"]),0.25))\n",
    "print(\"the 75 percemntile of the installment :\",np.quantile(sorted(loan_df[\"installment\"]),0.75))"
   ]
  },
  {
   "cell_type": "code",
   "execution_count": 34,
   "id": "e8dcee85",
   "metadata": {},
   "outputs": [
    {
     "name": "stderr",
     "output_type": "stream",
     "text": [
      "C:\\Users\\shray\\AppData\\Local\\Temp/ipykernel_18232/3345504326.py:6: MatplotlibDeprecationWarning: savefig() got unexpected keyword argument \"bobx_inches\" which is no longer supported as of 3.3 and will become an error two minor releases later\n",
      "  plt.savefig(\"grades of th loan.jpeg\",bobx_inches=\"tight\")\n"
     ]
    },
    {
     "data": {
      "image/png": "[encoded data removed]",
      "text/plain": [
       "<Figure size 432x288 with 1 Axes>"
      ]
     },
     "metadata": {
      "needs_background": "light"
     },
     "output_type": "display_data"
    }
   ],
   "source": [
    "a=loan_df[\"grade\"].value_counts()\n",
    "plt.bar(a.index,a,edgecolor=\"black\",color=\"blue\")\n",
    "plt.title(\"Grades of the Loan\",fontdict={\"fontsize\":18,\"fontweight\":7,\"color\":\"green\"})\n",
    "plt.xlabel(\"Grades as provided\",fontdict={\"fontsize\":12,\"fontweight\":5,\"color\":\"black\"})\n",
    "plt.ylabel(\"Number of loans provied\",fontdict={\"fontsize\":12,\"fontweight\":5,\"color\":\"black\"})\n",
    "plt.savefig(\"grades of th loan.jpeg\",bobx_inches=\"tight\")\n",
    "plt.show()"
   ]
  },
  {
   "cell_type": "markdown",
   "id": "d53b9832",
   "metadata": {},
   "source": [
    "From the above plot it is interesting to note that<br>\n",
    "1.grades b go the highest amount of loan issued<br>"
   ]
  },
  {
   "cell_type": "code",
   "execution_count": 35,
   "id": "333447b8",
   "metadata": {},
   "outputs": [
    {
     "name": "stderr",
     "output_type": "stream",
     "text": [
      "C:\\Users\\shray\\AppData\\Local\\Temp/ipykernel_18232/1047692293.py:9: MatplotlibDeprecationWarning: savefig() got unexpected keyword argument \"box_inches\" which is no longer supported as of 3.3 and will become an error two minor releases later\n",
      "  plt.savefig(\"subgrades of the loan.jpeg\",box_inches='tight')\n"
     ]
    },
    {
     "data": {
      "image/png": "[encoded data removed]",
      "text/plain": [
       "<Figure size 800x800 with 1 Axes>"
      ]
     },
     "metadata": {
      "needs_background": "light"
     },
     "output_type": "display_data"
    }
   ],
   "source": [
    "from matplotlib.pyplot import figure\n",
    "a=loan_df[\"sub_grade\"].value_counts()\n",
    "figure(figsize=(10,10),dpi=80)\n",
    "plt.bar(a.index,a,edgecolor=\"black\",color=\"blue\")\n",
    "plt.title(\"SubGrades of the Loan\",fontdict={\"fontsize\":15,\"fontweight\":7,\"color\":\"green\"})\n",
    "plt.xlabel(\"SubGrades as Provided\",fontdict={\"fontsize\":12,\"fontweight\":5,\"color\":\"black\"})\n",
    "plt.ylabel(\"Number of the loans\",fontdict={\"fontsize\":12,\"fontweight\":5,\"color\":\"black\"})\n",
    "plt.xticks(rotation=90)\n",
    "plt.savefig(\"subgrades of the loan.jpeg\",box_inches='tight')\n",
    "plt.show()\n",
    "\n"
   ]
  },
  {
   "cell_type": "markdown",
   "id": "a0760d07",
   "metadata": {},
   "source": [
    "Most shocking thing is the subgrade a1 is way lower then expected and i have a theory<br>\n",
    "if your loan grade is a1 you are not in need of loan<br>\n",
    "and it is still higher than much lower ones because the lending club because they are accepted more readily"
   ]
  },
  {
   "cell_type": "code",
   "execution_count": 36,
   "id": "050471d5",
   "metadata": {},
   "outputs": [
    {
     "data": {
      "text/plain": [
       "Index(['id', 'member_id', 'loan_amnt', 'funded_amnt', 'funded_amnt_inv',\n",
       "       'term', 'int_rate', 'installment', 'grade', 'sub_grade', 'emp_length',\n",
       "       'home_ownership', 'annual_inc', 'verification_status', 'loan_status',\n",
       "       'purpose', 'title', 'addr_state', 'dti', 'delinq_2yrs',\n",
       "       'earliest_cr_line', 'inq_last_6mths', 'open_acc', 'pub_rec',\n",
       "       'revol_bal', 'revol_util', 'total_acc', 'total_pymnt',\n",
       "       'total_pymnt_inv', 'total_rec_prncp', 'total_rec_int',\n",
       "       'total_rec_late_fee', 'recoveries', 'collection_recovery_fee',\n",
       "       'last_credit_pull_d', 'pub_rec_bankruptcies'],\n",
       "      dtype='object')"
      ]
     },
     "execution_count": 36,
     "metadata": {},
     "output_type": "execute_result"
    }
   ],
   "source": [
    "loan_df.columns"
   ]
  },
  {
   "cell_type": "code",
   "execution_count": 37,
   "id": "327d36fa",
   "metadata": {},
   "outputs": [
    {
     "data": {
      "image/png": "[encoded data removed]",
      "text/plain": [
       "<Figure size 800x800 with 1 Axes>"
      ]
     },
     "metadata": {
      "needs_background": "light"
     },
     "output_type": "display_data"
    }
   ],
   "source": [
    "a=loan_df[\"emp_length\"].value_counts()\n",
    "figure(figsize=(10,10),dpi=80)\n",
    "plt.bar(a.index,a,edgecolor=\"black\",color=\"blue\")\n",
    "plt.title(\"Employee Length\",fontdict={\"fontsize\":15,\"fontweight\":7,\"color\":\"green\"})\n",
    "plt.xlabel(\"Length in Years\",fontdict={\"fontsize\":12,\"fontweight\":5})\n",
    "plt.ylabel(\"Number of Loans given\",fontdict={\"fontsize\":12,\"fontweight\":5})\n",
    "plt.savefig(\"Employee length.jpeg\",bbox_inches='tight')\n",
    "plt.show()\n",
    "\n",
    "\n"
   ]
  },
  {
   "cell_type": "markdown",
   "id": "05de6bc6",
   "metadata": {},
   "source": [
    "Something very peculiar employees with more than 10 years is the highest:<br>\n",
    "and a very peculiar thing is that than it is in ascending order from 1 to 0"
   ]
  },
  {
   "cell_type": "code",
   "execution_count": 38,
   "id": "c672a629",
   "metadata": {},
   "outputs": [
    {
     "data": {
      "image/png": "[encoded data removed]",
      "text/plain": [
       "<Figure size 432x288 with 1 Axes>"
      ]
     },
     "metadata": {
      "needs_background": "light"
     },
     "output_type": "display_data"
    }
   ],
   "source": [
    "a=loan_df[\"home_ownership\"].value_counts()\n",
    "plt.bar(a.index,a,edgecolor=\"black\",color=\"blue\")\n",
    "plt.title(\"Home Ownership\",fontdict={\"fontsize\":15,\"fontweight\":7,\"color\":\"green\"})\n",
    "plt.xlabel(\"Ownership Status\",fontdict={\"fontsize\":12,\"fontweight\":5})\n",
    "plt.ylabel(\"Numnber of loans\",fontdict={\"fontsize\":12,\"fontweight\":5})\n",
    "plt.savefig(\"home ownership.jpeg\",bbox_inches='tight')\n",
    "plt.show()"
   ]
  },
  {
   "cell_type": "markdown",
   "id": "ec1551e0",
   "metadata": {},
   "source": [
    "Again a Search which gives us a idea about the clintele of the lending club"
   ]
  },
  {
   "cell_type": "code",
   "execution_count": 39,
   "id": "ab1fb8fd",
   "metadata": {},
   "outputs": [
    {
     "data": {
      "text/plain": [
       "Debt Consolidation           2090\n",
       "Debt Consolidation Loan      1620\n",
       "Personal Loan                 641\n",
       "Consolidation                 491\n",
       "debt consolidation            478\n",
       "                             ... \n",
       "Murray Loan                     1\n",
       "Need debt consolidation!        1\n",
       "freedom2                        1\n",
       "DAVE WEDDING                    1\n",
       "JAL Loan                        1\n",
       "Name: title, Length: 19297, dtype: int64"
      ]
     },
     "execution_count": 39,
     "metadata": {},
     "output_type": "execute_result"
    }
   ],
   "source": [
    "loan_df[\"title\"].value_counts()#----> finding out popular title"
   ]
  },
  {
   "cell_type": "code",
   "execution_count": 40,
   "id": "dfbaaa79",
   "metadata": {
    "scrolled": true
   },
   "outputs": [],
   "source": [
    "loan_df[\"title\"].fillna(\"\",inplace=True)#---> filling nan values"
   ]
  },
  {
   "cell_type": "code",
   "execution_count": 41,
   "id": "39d362cd",
   "metadata": {},
   "outputs": [],
   "source": [
    "loan_df[\"title\"]=[\"dc\" if \"consolid\" in x else x for x in loan_df[\"title\"]]# putting all consolidation into one"
   ]
  },
  {
   "cell_type": "code",
   "execution_count": 42,
   "id": "41200bdc",
   "metadata": {},
   "outputs": [],
   "source": [
    "loan_df[\"title\"]=[\"dc\" if \"Consolid\" in x else x for x in loan_df[\"title\"]]#--> consolid wuth capital C"
   ]
  },
  {
   "cell_type": "code",
   "execution_count": 43,
   "id": "54f5a16a",
   "metadata": {
    "scrolled": false
   },
   "outputs": [],
   "source": [
    "a=loan_df[\"title\"].value_counts()"
   ]
  },
  {
   "cell_type": "code",
   "execution_count": 44,
   "id": "34fd4317",
   "metadata": {},
   "outputs": [
    {
     "data": {
      "text/plain": [
       "dc                          9636\n",
       "Personal Loan                641\n",
       "Home Improvement             345\n",
       "Small Business Loan          305\n",
       "Credit Card Loan             301\n",
       "                            ... \n",
       "cc payoff                      3\n",
       "Paying off bills               3\n",
       "Pay off Credit Card Debt       3\n",
       "test                           3\n",
       "Debt ConsolIdation loan        2\n",
       "Name: title, Length: 891, dtype: int64"
      ]
     },
     "execution_count": 44,
     "metadata": {},
     "output_type": "execute_result"
    }
   ],
   "source": [
    "a.loc[a.index[0]:a[a==2].index[0]]#--> first element where aa title is equal to 2"
   ]
  },
  {
   "cell_type": "code",
   "execution_count": 45,
   "id": "975d0f79",
   "metadata": {},
   "outputs": [],
   "source": [
    "loan_df[\"title\"]=[\"personal loan\" if \"person\" in x else x for x in loan_df[\"title\"]]"
   ]
  },
  {
   "cell_type": "code",
   "execution_count": 46,
   "id": "9aa6b427",
   "metadata": {},
   "outputs": [
    {
     "data": {
      "text/plain": [
       "dc                        9636\n",
       "Personal Loan              641\n",
       "personal loan              576\n",
       "Home Improvement           345\n",
       "Small Business Loan        305\n",
       "                          ... \n",
       "Ro's Loan                    1\n",
       "Discover & Visa Payoff       1\n",
       "Legal                        1\n",
       "Be Debt Free                 1\n",
       "JAL Loan                     1\n",
       "Name: title, Length: 17061, dtype: int64"
      ]
     },
     "execution_count": 46,
     "metadata": {},
     "output_type": "execute_result"
    }
   ],
   "source": [
    "a=loan_df[\"title\"].value_counts()\n",
    "a"
   ]
  },
  {
   "cell_type": "code",
   "execution_count": 47,
   "id": "6a5961ba",
   "metadata": {},
   "outputs": [],
   "source": [
    "loan_df[\"title\"]=[\"personal loan\" if \"Person\" in x else x for x in loan_df[\"title\"]]"
   ]
  },
  {
   "cell_type": "code",
   "execution_count": 48,
   "id": "4a4d1184",
   "metadata": {},
   "outputs": [],
   "source": [
    "a=loan_df['title'].value_counts()"
   ]
  },
  {
   "cell_type": "code",
   "execution_count": 49,
   "id": "802a44db",
   "metadata": {},
   "outputs": [
    {
     "data": {
      "text/plain": [
       "dc                             9636\n",
       "personal loan                  1950\n",
       "Home Improvement                345\n",
       "Small Business Loan             305\n",
       "Credit Card Loan                301\n",
       "                               ... \n",
       "ccf                               1\n",
       "La fin des cartes de credit       1\n",
       "De Cheaper Trash                  1\n",
       "7300                              1\n",
       "JAL Loan                          1\n",
       "Name: title, Length: 16771, dtype: int64"
      ]
     },
     "execution_count": 49,
     "metadata": {},
     "output_type": "execute_result"
    }
   ],
   "source": [
    "a"
   ]
  },
  {
   "cell_type": "code",
   "execution_count": 50,
   "id": "5e969127",
   "metadata": {},
   "outputs": [
    {
     "data": {
      "text/plain": [
       "dc                       9636\n",
       "personal loan            1950\n",
       "Home Improvement          345\n",
       "Small Business Loan       305\n",
       "Credit Card Loan          301\n",
       "Home Improvement Loan     230\n",
       "Loan                      206\n",
       "Wedding Loan              201\n",
       "Car Loan                  193\n",
       "Other Loan                180\n",
       "Credit Card Payoff        150\n",
       "Wedding                   147\n",
       "Credit Card Refinance     142\n",
       "Major Purchase Loan       137\n",
       "Medical                   117\n",
       "Credit Card               114\n",
       "home improvement          106\n",
       "Credit Cards               91\n",
       "My Loan                    90\n",
       "Debt                       84\n",
       "Name: title, dtype: int64"
      ]
     },
     "execution_count": 50,
     "metadata": {},
     "output_type": "execute_result"
    }
   ],
   "source": [
    "a[:20]"
   ]
  },
  {
   "cell_type": "code",
   "execution_count": 51,
   "id": "9280c418",
   "metadata": {},
   "outputs": [],
   "source": [
    "loan_df[\"title\"]=[\"credit card\" if \"Credit\" in x else x for x in loan_df[\"title\"]]"
   ]
  },
  {
   "cell_type": "code",
   "execution_count": 52,
   "id": "3a61725e",
   "metadata": {},
   "outputs": [
    {
     "data": {
      "text/plain": [
       "dc                       9636\n",
       "credit card              2385\n",
       "personal loan            1950\n",
       "Home Improvement          345\n",
       "Small Business Loan       305\n",
       "Home Improvement Loan     230\n",
       "Loan                      206\n",
       "Wedding Loan              201\n",
       "Car Loan                  193\n",
       "Other Loan                180\n",
       "Wedding                   147\n",
       "Major Purchase Loan       137\n",
       "Medical                   117\n",
       "home improvement          106\n",
       "My Loan                    90\n",
       "Debt                       84\n",
       "loan                       82\n",
       "Business Loan              80\n",
       "Freedom                    76\n",
       "Moving Loan                75\n",
       "Name: title, dtype: int64"
      ]
     },
     "execution_count": 52,
     "metadata": {},
     "output_type": "execute_result"
    }
   ],
   "source": [
    "a=loan_df[\"title\"].value_counts()\n",
    "a[:20]"
   ]
  },
  {
   "cell_type": "code",
   "execution_count": 53,
   "id": "b1bc10f1",
   "metadata": {},
   "outputs": [
    {
     "data": {
      "text/plain": [
       "dc                     9636\n",
       "credit card            2385\n",
       "personal loan          1950\n",
       "Home Improvement        345\n",
       "Small Business Loan     305\n",
       "                       ... \n",
       "TRAILER LOAN              1\n",
       "Pheonix                   1\n",
       "Dee Dee                   1\n",
       "bilco                     1\n",
       "JAL Loan                  1\n",
       "Name: title, Length: 15795, dtype: int64"
      ]
     },
     "execution_count": 53,
     "metadata": {},
     "output_type": "execute_result"
    }
   ],
   "source": [
    "a"
   ]
  },
  {
   "cell_type": "code",
   "execution_count": 54,
   "id": "88a4bb6c",
   "metadata": {},
   "outputs": [
    {
     "data": {
      "image/png": "[encoded data removed]",
      "text/plain": [
       "<Figure size 432x288 with 1 Axes>"
      ]
     },
     "metadata": {
      "needs_background": "light"
     },
     "output_type": "display_data"
    }
   ],
   "source": [
    "plt.bar(a.index[:10],a[:10],edgecolor=\"black\",color=\"blue\")\n",
    "plt.title(\"Some Common Categories\",fontdict={\"fontsize\":15,\"fontweight\":7,\"color\":\"green\"})\n",
    "plt.xlabel(\"Categories\",fontdict={\"fontsize\":12,\"fontweight\":5})\n",
    "plt.ylabel(\"Frequency\",fontdict={\"fontsize\":12,\"fontweight\":5})\n",
    "plt.xticks(rotation=90)\n",
    "plt.show()"
   ]
  },
  {
   "cell_type": "markdown",
   "id": "d5e97220",
   "metadata": {},
   "source": [
    "Most are consolidatin loan the personal and credit card loan"
   ]
  },
  {
   "cell_type": "code",
   "execution_count": 55,
   "id": "9c2592a4",
   "metadata": {},
   "outputs": [
    {
     "data": {
      "text/plain": [
       "Index(['id', 'member_id', 'loan_amnt', 'funded_amnt', 'funded_amnt_inv',\n",
       "       'term', 'int_rate', 'installment', 'grade', 'sub_grade', 'emp_length',\n",
       "       'home_ownership', 'annual_inc', 'verification_status', 'loan_status',\n",
       "       'purpose', 'title', 'addr_state', 'dti', 'delinq_2yrs',\n",
       "       'earliest_cr_line', 'inq_last_6mths', 'open_acc', 'pub_rec',\n",
       "       'revol_bal', 'revol_util', 'total_acc', 'total_pymnt',\n",
       "       'total_pymnt_inv', 'total_rec_prncp', 'total_rec_int',\n",
       "       'total_rec_late_fee', 'recoveries', 'collection_recovery_fee',\n",
       "       'last_credit_pull_d', 'pub_rec_bankruptcies'],\n",
       "      dtype='object')"
      ]
     },
     "execution_count": 55,
     "metadata": {},
     "output_type": "execute_result"
    }
   ],
   "source": [
    "loan_df.columns"
   ]
  },
  {
   "cell_type": "code",
   "execution_count": 56,
   "id": "8fdd12d7",
   "metadata": {},
   "outputs": [
    {
     "name": "stdout",
     "output_type": "stream",
     "text": [
      "Information about annual income\n",
      "the lowest annual income  is : 4000.0\n",
      "the highes annual income  is : 6000000.0\n",
      "the median amount of the annual income is : 58868.0\n",
      "the 25 percentile of the annual income is : 40000.0\n",
      "the 75 percemntile of the annual inocme : 82000.0\n",
      "the 1st percentile of the annual income is  : 14400.0\n",
      "the 99th percentile of the annual income is : 234143.99999999878\n"
     ]
    }
   ],
   "source": [
    "#print(\"\\n\\n\\n\\n\")\n",
    "print(\"Information about annual income\")\n",
    "print(\"the lowest annual income  is :\",loan_df[\"annual_inc\"].min())\n",
    "print(\"the highes annual income  is :\",loan_df[\"annual_inc\"].max())\n",
    "print(\"the median amount of the annual income is :\",np.quantile(sorted(loan_df[\"annual_inc\"]),0.5))\n",
    "print(\"the 25 percentile of the annual income is :\",np.quantile(sorted(loan_df[\"annual_inc\"]),0.25))\n",
    "print(\"the 75 percemntile of the annual inocme :\",np.quantile(sorted(loan_df[\"annual_inc\"]),0.75))\n",
    "print(\"the 1st percentile of the annual income is  :\",np.quantile(sorted(loan_df[\"annual_inc\"]),0.01))\n",
    "print(\"the 99th percentile of the annual income is :\",np.quantile(sorted(loan_df[\"annual_inc\"]),0.99))"
   ]
  },
  {
   "cell_type": "code",
   "execution_count": 57,
   "id": "ee56e6e1",
   "metadata": {},
   "outputs": [
    {
     "data": {
      "text/plain": [
       "0        27.65\n",
       "1         1.00\n",
       "2         8.72\n",
       "3        20.00\n",
       "5        11.20\n",
       "         ...  \n",
       "39712    11.33\n",
       "39713     6.40\n",
       "39714     2.30\n",
       "39715     3.72\n",
       "39716    14.29\n",
       "Name: dti, Length: 38577, dtype: float64"
      ]
     },
     "execution_count": 57,
     "metadata": {},
     "output_type": "execute_result"
    }
   ],
   "source": [
    "loan_df[\"dti\"]"
   ]
  },
  {
   "cell_type": "code",
   "execution_count": 58,
   "id": "11989241",
   "metadata": {
    "scrolled": true
   },
   "outputs": [
    {
     "name": "stdout",
     "output_type": "stream",
     "text": [
      "29.99\n",
      "0.0\n"
     ]
    }
   ],
   "source": [
    "print(loan_df[\"dti\"].max())\n",
    "print(loan_df[\"dti\"].min())"
   ]
  },
  {
   "cell_type": "code",
   "execution_count": 59,
   "id": "54a832c1",
   "metadata": {},
   "outputs": [
    {
     "data": {
      "image/png": "[encoded data removed]",
      "text/plain": [
       "<Figure size 432x288 with 1 Axes>"
      ]
     },
     "metadata": {
      "needs_background": "light"
     },
     "output_type": "display_data"
    },
    {
     "name": "stdout",
     "output_type": "stream",
     "text": [
      "\n",
      "\n",
      "\n",
      "\n",
      "\n",
      "Information about Interest Rate\n",
      "the lowest interest rate  is : 0.0\n",
      "the highes interest rate  is : 29.99\n",
      "the median amount of the loan provided is : 13.37\n",
      "the 25 percentile of the loan provided is : 8.13\n",
      "the 75 percemntile of the interest rate : 18.56\n"
     ]
    }
   ],
   "source": [
    "out1,bins1,out3=plt.hist(loan_df[\"dti\"],bins=10,edgecolor=\"black\",color=\"blue\")\n",
    "plt.title(\"Debt to Income Ratio\",fontdict={\"fontsize\":18,\"fontweight\":8,\"color\":\"green\"})\n",
    "plt.xlabel(\"dti\",fontdict={\"fontsize\":12,\"fontweight\":5,\"color\":\"black\"})\n",
    "plt.ylabel(\"Numbr of loans\",fontdict={\"fontsize\":12,\"fontweight\":5,\"color\":\"black\"})\n",
    "plt.xticks(bins1,rotation=90)\n",
    "plt.savefig(\"dtu.jpeg\",bbox_inches='tight')\n",
    "plt.show()\n",
    "\n",
    "\n",
    "\n",
    "print(\"\\n\\n\\n\\n\")\n",
    "print(\"Information about Interest Rate\")\n",
    "print(\"the lowest interest rate  is :\",loan_df[\"dti\"].min())\n",
    "print(\"the highes interest rate  is :\",loan_df[\"dti\"].max())\n",
    "print(\"the median amount of the loan provided is :\",np.quantile(sorted(loan_df[\"dti\"]),0.5))\n",
    "print(\"the 25 percentile of the loan provided is :\",np.quantile(sorted(loan_df[\"dti\"]),0.25))\n",
    "print(\"the 75 percemntile of the interest rate :\",np.quantile(sorted(loan_df[\"dti\"]),0.75))"
   ]
  },
  {
   "cell_type": "markdown",
   "id": "2fbe22da",
   "metadata": {},
   "source": [
    "## Segmented Univariate analysis"
   ]
  },
  {
   "cell_type": "code",
   "execution_count": 60,
   "id": "83447181",
   "metadata": {},
   "outputs": [
    {
     "data": {
      "text/plain": [
       "Index(['id', 'member_id', 'loan_amnt', 'funded_amnt', 'funded_amnt_inv',\n",
       "       'term', 'int_rate', 'installment', 'grade', 'sub_grade', 'emp_length',\n",
       "       'home_ownership', 'annual_inc', 'verification_status', 'loan_status',\n",
       "       'purpose', 'title', 'addr_state', 'dti', 'delinq_2yrs',\n",
       "       'earliest_cr_line', 'inq_last_6mths', 'open_acc', 'pub_rec',\n",
       "       'revol_bal', 'revol_util', 'total_acc', 'total_pymnt',\n",
       "       'total_pymnt_inv', 'total_rec_prncp', 'total_rec_int',\n",
       "       'total_rec_late_fee', 'recoveries', 'collection_recovery_fee',\n",
       "       'last_credit_pull_d', 'pub_rec_bankruptcies'],\n",
       "      dtype='object')"
      ]
     },
     "execution_count": 60,
     "metadata": {},
     "output_type": "execute_result"
    }
   ],
   "source": [
    "loan_df.columns"
   ]
  },
  {
   "cell_type": "code",
   "execution_count": 61,
   "id": "64f427ba",
   "metadata": {},
   "outputs": [
    {
     "data": {
      "text/plain": [
       "Fully Paid     32950\n",
       "Charged Off     5627\n",
       "Name: loan_status, dtype: int64"
      ]
     },
     "execution_count": 61,
     "metadata": {},
     "output_type": "execute_result"
    }
   ],
   "source": [
    "loan_df[\"loan_status\"].value_counts()"
   ]
  },
  {
   "cell_type": "code",
   "execution_count": 62,
   "id": "cdb38c30",
   "metadata": {},
   "outputs": [
    {
     "name": "stdout",
     "output_type": "stream",
     "text": [
      "The number of recoveries based on total loan 0.8541358840760038\n"
     ]
    }
   ],
   "source": [
    "print(\"The number of recoveries based on total loan\",len(loan_df[loan_df[\"loan_status\"]==\"Fully Paid\"])/len(loan_df))"
   ]
  },
  {
   "cell_type": "code",
   "execution_count": 63,
   "id": "6a4736f6",
   "metadata": {},
   "outputs": [
    {
     "name": "stdout",
     "output_type": "stream",
     "text": [
      "the recovery rate for 3 years is : 0.8890912840252956\n",
      "the recovery rate for 5 yeas is  : 0.7468621453433182\n"
     ]
    }
   ],
   "source": [
    "loan_df[\"term\"]=loan_df[\"term\"].apply(lambda x:x.strip())\n",
    "a=loan_df.loc[:,[\"term\",\"loan_status\"]]\n",
    "print(\"the recovery rate for 3 years is :\",len(a[(a[\"term\"]==\"36 months\") & (a[\"loan_status\"]==\"Fully Paid\")])/len(a[a[\"term\"]==\"36 months\"]))\n",
    "print(\"the recovery rate for 5 yeas is  :\",len(a[(a[\"term\"]==\"60 months\") & (a[\"loan_status\"]==\"Fully Paid\")])/len(a[a[\"term\"]==\"60 months\"]))"
   ]
  },
  {
   "cell_type": "markdown",
   "id": "540aaab1",
   "metadata": {},
   "source": [
    "The result were as expected"
   ]
  },
  {
   "cell_type": "markdown",
   "id": "d593ef9b",
   "metadata": {},
   "source": [
    "so, normal rates are (4 to 9]<br>\n",
    "    moderate rates are (9 to 12]<br>\n",
    "    high rates are (12 to 14]<br>\n",
    "    hyper rates are (14 to 24]"
   ]
  },
  {
   "cell_type": "code",
   "execution_count": 64,
   "id": "897b84db",
   "metadata": {},
   "outputs": [
    {
     "name": "stdout",
     "output_type": "stream",
     "text": [
      "The recovery for normal interest rate   : 0.9403548123980424\n",
      "The recovery for moderate interest rate : 0.8819013566095278\n",
      "The recovery for high interest rate     : 0.8400748674222731\n",
      "The recovery for hyper interest rate    : 0.7530851394794151\n"
     ]
    }
   ],
   "source": [
    "a=pd.qcut(loan_df[\"int_rate\"],q=4,precision=0,labels=(\"normal\",\"moderate\",\"high\",\"hyper\"))\n",
    "data={\"Interest_rate\":a,\"loan_status\":loan_df[\"loan_status\"]}\n",
    "a=pd.concat(data,axis=1)\n",
    "print(\"The recovery for normal interest rate   :\",len(a[(a[\"loan_status\"]==\"Fully Paid\") & (a[\"Interest_rate\"]==\"normal\")])/len(a[a[\"Interest_rate\"]==\"normal\"]))\n",
    "print(\"The recovery for moderate interest rate :\",len(a[(a[\"loan_status\"]==\"Fully Paid\") & (a[\"Interest_rate\"]==\"moderate\")])/len(a[a[\"Interest_rate\"]==\"moderate\"]))\n",
    "print(\"The recovery for high interest rate     :\",len(a[(a[\"loan_status\"]==\"Fully Paid\") & (a[\"Interest_rate\"]==\"high\")])/len(a[a[\"Interest_rate\"]==\"high\"]))\n",
    "print(\"The recovery for hyper interest rate    :\",len(a[(a[\"loan_status\"]==\"Fully Paid\") & (a[\"Interest_rate\"]==\"hyper\")])/len(a[a[\"Interest_rate\"]==\"hyper\"]))"
   ]
  },
  {
   "cell_type": "markdown",
   "id": "d56aa4a7",
   "metadata": {},
   "source": [
    "the result were as expected"
   ]
  },
  {
   "cell_type": "code",
   "execution_count": 65,
   "id": "bc4bdad0",
   "metadata": {},
   "outputs": [],
   "source": [
    "a=loan_df.loc[:,[\"grade\",\"sub_grade\",\"loan_status\"]]"
   ]
  },
  {
   "cell_type": "code",
   "execution_count": 66,
   "id": "f94b1f22",
   "metadata": {},
   "outputs": [
    {
     "data": {
      "text/plain": [
       "A4    2873\n",
       "B3    2825\n",
       "A5    2715\n",
       "B5    2615\n",
       "B4    2437\n",
       "C1    2055\n",
       "B2    2001\n",
       "C2    1931\n",
       "A3    1810\n",
       "B1    1797\n",
       "A2    1508\n",
       "C3    1488\n",
       "D2    1286\n",
       "C4    1206\n",
       "C5    1154\n",
       "A1    1139\n",
       "D3    1116\n",
       "D1     931\n",
       "D4     918\n",
       "D5     834\n",
       "E1     722\n",
       "E2     614\n",
       "E3     516\n",
       "E4     424\n",
       "E5     387\n",
       "F1     305\n",
       "F2     233\n",
       "F3     174\n",
       "F4     151\n",
       "F5     113\n",
       "G1      94\n",
       "G2      77\n",
       "G4      54\n",
       "G3      45\n",
       "G5      29\n",
       "Name: sub_grade, dtype: int64"
      ]
     },
     "execution_count": 66,
     "metadata": {},
     "output_type": "execute_result"
    }
   ],
   "source": [
    "a[\"sub_grade\"].value_counts()"
   ]
  },
  {
   "cell_type": "code",
   "execution_count": 67,
   "id": "985ff826",
   "metadata": {
    "scrolled": false
   },
   "outputs": [
    {
     "name": "stdout",
     "output_type": "stream",
     "text": [
      "\u001b[1mThe recovery for \u001b[4mGrade A\u001b[0m is : 0.9400696864111499\n",
      "\n",
      "\n",
      "the recovery for \u001b[1msubgrade A1\u001b[0m is : 0.9736611062335382\n",
      "the recovery for \u001b[1msubgrade A2\u001b[0m is : 0.9509283819628647\n",
      "the recovery for \u001b[1msubgrade A3\u001b[0m is : 0.9430939226519337\n",
      "the recovery for \u001b[1msubgrade A4\u001b[0m is : 0.9380438565958928\n",
      "the recovery for \u001b[1msubgrade A5\u001b[0m is : 0.920073664825046\n",
      "\n",
      "\n",
      "\n",
      "\n",
      "\n",
      "\u001b[1mThe recovery for \u001b[4mGrade B\u001b[0m is : 0.8779443254817987\n",
      "\n",
      "\n",
      "the recovery for \u001b[1msubgrade B1\u001b[0m is : 0.9048414023372288\n",
      "the recovery for \u001b[1msubgrade B2\u001b[0m is : 0.8860569715142429\n",
      "the recovery for \u001b[1msubgrade B3\u001b[0m is : 0.8792920353982301\n",
      "the recovery for \u001b[1msubgrade B4\u001b[0m is : 0.8649979482970865\n",
      "the recovery for \u001b[1msubgrade B5\u001b[0m is : 0.8638623326959847\n",
      "\n",
      "\n",
      "\n",
      "\n",
      "\n",
      "\u001b[1mThe recovery for \u001b[4mGrade C\u001b[0m is : 0.8280571866224151\n",
      "\n",
      "\n",
      "the recovery for \u001b[1msubgrade C1\u001b[0m is : 0.8364963503649635\n",
      "the recovery for \u001b[1msubgrade C2\u001b[0m is : 0.833764888658726\n",
      "the recovery for \u001b[1msubgrade C3\u001b[0m is : 0.8185483870967742\n",
      "the recovery for \u001b[1msubgrade C4\u001b[0m is : 0.824212271973466\n",
      "the recovery for \u001b[1msubgrade C5\u001b[0m is : 0.8197573656845754\n",
      "\n",
      "\n",
      "\n",
      "\n",
      "\n",
      "\u001b[1mThe recovery for \u001b[4mGrade D\u001b[0m is : 0.7801376597836774\n",
      "\n",
      "\n",
      "the recovery for \u001b[1msubgrade D1\u001b[0m is : 0.8206229860365198\n",
      "the recovery for \u001b[1msubgrade D2\u001b[0m is : 0.7892690513219285\n",
      "the recovery for \u001b[1msubgrade D3\u001b[0m is : 0.7706093189964157\n",
      "the recovery for \u001b[1msubgrade D4\u001b[0m is : 0.7657952069716776\n",
      "the recovery for \u001b[1msubgrade D5\u001b[0m is : 0.749400479616307\n",
      "\n",
      "\n",
      "\n",
      "\n",
      "\n",
      "\u001b[1mThe recovery for \u001b[4mGrade E\u001b[0m is : 0.7315058205031919\n",
      "\n",
      "\n",
      "the recovery for \u001b[1msubgrade E1\u001b[0m is : 0.7257617728531855\n",
      "the recovery for \u001b[1msubgrade E2\u001b[0m is : 0.7345276872964169\n",
      "the recovery for \u001b[1msubgrade E3\u001b[0m is : 0.7693798449612403\n",
      "the recovery for \u001b[1msubgrade E4\u001b[0m is : 0.7028301886792453\n",
      "the recovery for \u001b[1msubgrade E5\u001b[0m is : 0.7183462532299741\n",
      "\n",
      "\n",
      "\n",
      "\n",
      "\n",
      "\u001b[1mThe recovery for \u001b[4mGrade F\u001b[0m is : 0.673155737704918\n",
      "\n",
      "\n",
      "the recovery for \u001b[1msubgrade F1\u001b[0m is : 0.7016393442622951\n",
      "the recovery for \u001b[1msubgrade F2\u001b[0m is : 0.6995708154506438\n",
      "the recovery for \u001b[1msubgrade F3\u001b[0m is : 0.7068965517241379\n",
      "the recovery for \u001b[1msubgrade F4\u001b[0m is : 0.6490066225165563\n",
      "the recovery for \u001b[1msubgrade F5\u001b[0m is : 0.5221238938053098\n",
      "\n",
      "\n",
      "\n",
      "\n",
      "\n",
      "\u001b[1mThe recovery for \u001b[4mGrade G\u001b[0m is : 0.6622073578595318\n",
      "\n",
      "\n",
      "the recovery for \u001b[1msubgrade G1\u001b[0m is : 0.6702127659574468\n",
      "the recovery for \u001b[1msubgrade G2\u001b[0m is : 0.6363636363636364\n",
      "the recovery for \u001b[1msubgrade G3\u001b[0m is : 0.5777777777777777\n",
      "the recovery for \u001b[1msubgrade G4\u001b[0m is : 0.7592592592592593\n",
      "the recovery for \u001b[1msubgrade G5\u001b[0m is : 0.6551724137931034\n"
     ]
    }
   ],
   "source": [
    "print(\"\\033[1mThe recovery for \\033[4mGrade A\\033[0m is :\",len(a[(a[\"grade\"]==\"A\") & (a[\"loan_status\"]==\"Fully Paid\")])/len(a[a[\"grade\"]==\"A\"]))\n",
    "print(\"\\n\")\n",
    "print(\"the recovery for \\033[1msubgrade A1\\033[0m is :\",len(a[(a[\"sub_grade\"]==\"A1\") & (a[\"loan_status\"]==\"Fully Paid\")])/len(a[a[\"sub_grade\"]==\"A1\"]))\n",
    "print(\"the recovery for \\033[1msubgrade A2\\033[0m is :\",len(a[(a[\"sub_grade\"]==\"A2\") & (a[\"loan_status\"]==\"Fully Paid\")])/len(a[a[\"sub_grade\"]==\"A2\"]))\n",
    "print(\"the recovery for \\033[1msubgrade A3\\033[0m is :\",len(a[(a[\"sub_grade\"]==\"A3\") & (a[\"loan_status\"]==\"Fully Paid\")])/len(a[a[\"sub_grade\"]==\"A3\"]))\n",
    "print(\"the recovery for \\033[1msubgrade A4\\033[0m is :\",len(a[(a[\"sub_grade\"]==\"A4\") & (a[\"loan_status\"]==\"Fully Paid\")])/len(a[a[\"sub_grade\"]==\"A4\"]))\n",
    "print(\"the recovery for \\033[1msubgrade A5\\033[0m is :\",len(a[(a[\"sub_grade\"]==\"A5\") & (a[\"loan_status\"]==\"Fully Paid\")])/len(a[a[\"sub_grade\"]==\"A5\"]))\n",
    "print(\"\\n\\n\\n\\n\")\n",
    "\n",
    "\n",
    "print(\"\\033[1mThe recovery for \\033[4mGrade B\\033[0m is :\",len(a[(a[\"grade\"]==\"B\") & (a[\"loan_status\"]==\"Fully Paid\")])/len(a[a[\"grade\"]==\"B\"]))\n",
    "print(\"\\n\")\n",
    "print(\"the recovery for \\033[1msubgrade B1\\033[0m is :\",len(a[(a[\"sub_grade\"]==\"B1\") & (a[\"loan_status\"]==\"Fully Paid\")])/len(a[a[\"sub_grade\"]==\"B1\"]))\n",
    "print(\"the recovery for \\033[1msubgrade B2\\033[0m is :\",len(a[(a[\"sub_grade\"]==\"B2\") & (a[\"loan_status\"]==\"Fully Paid\")])/len(a[a[\"sub_grade\"]==\"B2\"]))\n",
    "print(\"the recovery for \\033[1msubgrade B3\\033[0m is :\",len(a[(a[\"sub_grade\"]==\"B3\") & (a[\"loan_status\"]==\"Fully Paid\")])/len(a[a[\"sub_grade\"]==\"B3\"]))\n",
    "print(\"the recovery for \\033[1msubgrade B4\\033[0m is :\",len(a[(a[\"sub_grade\"]==\"B4\") & (a[\"loan_status\"]==\"Fully Paid\")])/len(a[a[\"sub_grade\"]==\"B4\"]))\n",
    "print(\"the recovery for \\033[1msubgrade B5\\033[0m is :\",len(a[(a[\"sub_grade\"]==\"B5\") & (a[\"loan_status\"]==\"Fully Paid\")])/len(a[a[\"sub_grade\"]==\"B5\"]))\n",
    "print(\"\\n\\n\\n\\n\")\n",
    "\n",
    "\n",
    "print(\"\\033[1mThe recovery for \\033[4mGrade C\\033[0m is :\",len(a[(a[\"grade\"]==\"C\") & (a[\"loan_status\"]==\"Fully Paid\")])/len(a[a[\"grade\"]==\"C\"]))\n",
    "print(\"\\n\")\n",
    "print(\"the recovery for \\033[1msubgrade C1\\033[0m is :\",len(a[(a[\"sub_grade\"]==\"C1\") & (a[\"loan_status\"]==\"Fully Paid\")])/len(a[a[\"sub_grade\"]==\"C1\"]))\n",
    "print(\"the recovery for \\033[1msubgrade C2\\033[0m is :\",len(a[(a[\"sub_grade\"]==\"C2\") & (a[\"loan_status\"]==\"Fully Paid\")])/len(a[a[\"sub_grade\"]==\"C2\"]))\n",
    "print(\"the recovery for \\033[1msubgrade C3\\033[0m is :\",len(a[(a[\"sub_grade\"]==\"C3\") & (a[\"loan_status\"]==\"Fully Paid\")])/len(a[a[\"sub_grade\"]==\"C3\"]))\n",
    "print(\"the recovery for \\033[1msubgrade C4\\033[0m is :\",len(a[(a[\"sub_grade\"]==\"C4\") & (a[\"loan_status\"]==\"Fully Paid\")])/len(a[a[\"sub_grade\"]==\"C4\"]))\n",
    "print(\"the recovery for \\033[1msubgrade C5\\033[0m is :\",len(a[(a[\"sub_grade\"]==\"C5\") & (a[\"loan_status\"]==\"Fully Paid\")])/len(a[a[\"sub_grade\"]==\"C5\"]))\n",
    "print(\"\\n\\n\\n\\n\")\n",
    "\n",
    "\n",
    "\n",
    "\n",
    "\n",
    "print(\"\\033[1mThe recovery for \\033[4mGrade D\\033[0m is :\",len(a[(a[\"grade\"]==\"D\") & (a[\"loan_status\"]==\"Fully Paid\")])/len(a[a[\"grade\"]==\"D\"]))\n",
    "print(\"\\n\")\n",
    "print(\"the recovery for \\033[1msubgrade D1\\033[0m is :\",len(a[(a[\"sub_grade\"]==\"D1\") & (a[\"loan_status\"]==\"Fully Paid\")])/len(a[a[\"sub_grade\"]==\"D1\"]))\n",
    "print(\"the recovery for \\033[1msubgrade D2\\033[0m is :\",len(a[(a[\"sub_grade\"]==\"D2\") & (a[\"loan_status\"]==\"Fully Paid\")])/len(a[a[\"sub_grade\"]==\"D2\"]))\n",
    "print(\"the recovery for \\033[1msubgrade D3\\033[0m is :\",len(a[(a[\"sub_grade\"]==\"D3\") & (a[\"loan_status\"]==\"Fully Paid\")])/len(a[a[\"sub_grade\"]==\"D3\"]))\n",
    "print(\"the recovery for \\033[1msubgrade D4\\033[0m is :\",len(a[(a[\"sub_grade\"]==\"D4\") & (a[\"loan_status\"]==\"Fully Paid\")])/len(a[a[\"sub_grade\"]==\"D4\"]))\n",
    "print(\"the recovery for \\033[1msubgrade D5\\033[0m is :\",len(a[(a[\"sub_grade\"]==\"D5\") & (a[\"loan_status\"]==\"Fully Paid\")])/len(a[a[\"sub_grade\"]==\"D5\"]))\n",
    "print(\"\\n\\n\\n\\n\")\n",
    "\n",
    "\n",
    "\n",
    "\n",
    "print(\"\\033[1mThe recovery for \\033[4mGrade E\\033[0m is :\",len(a[(a[\"grade\"]==\"E\") & (a[\"loan_status\"]==\"Fully Paid\")])/len(a[a[\"grade\"]==\"E\"]))\n",
    "print(\"\\n\")\n",
    "print(\"the recovery for \\033[1msubgrade E1\\033[0m is :\",len(a[(a[\"sub_grade\"]==\"E1\") & (a[\"loan_status\"]==\"Fully Paid\")])/len(a[a[\"sub_grade\"]==\"E1\"]))\n",
    "print(\"the recovery for \\033[1msubgrade E2\\033[0m is :\",len(a[(a[\"sub_grade\"]==\"E2\") & (a[\"loan_status\"]==\"Fully Paid\")])/len(a[a[\"sub_grade\"]==\"E2\"]))\n",
    "print(\"the recovery for \\033[1msubgrade E3\\033[0m is :\",len(a[(a[\"sub_grade\"]==\"E3\") & (a[\"loan_status\"]==\"Fully Paid\")])/len(a[a[\"sub_grade\"]==\"E3\"]))\n",
    "print(\"the recovery for \\033[1msubgrade E4\\033[0m is :\",len(a[(a[\"sub_grade\"]==\"E4\") & (a[\"loan_status\"]==\"Fully Paid\")])/len(a[a[\"sub_grade\"]==\"E4\"]))\n",
    "print(\"the recovery for \\033[1msubgrade E5\\033[0m is :\",len(a[(a[\"sub_grade\"]==\"E5\") & (a[\"loan_status\"]==\"Fully Paid\")])/len(a[a[\"sub_grade\"]==\"E5\"]))\n",
    "print(\"\\n\\n\\n\\n\")\n",
    "\n",
    "\n",
    "\n",
    "print(\"\\033[1mThe recovery for \\033[4mGrade F\\033[0m is :\",len(a[(a[\"grade\"]==\"F\") & (a[\"loan_status\"]==\"Fully Paid\")])/len(a[a[\"grade\"]==\"F\"]))\n",
    "print(\"\\n\")\n",
    "print(\"the recovery for \\033[1msubgrade F1\\033[0m is :\",len(a[(a[\"sub_grade\"]==\"F1\") & (a[\"loan_status\"]==\"Fully Paid\")])/len(a[a[\"sub_grade\"]==\"F1\"]))\n",
    "print(\"the recovery for \\033[1msubgrade F2\\033[0m is :\",len(a[(a[\"sub_grade\"]==\"F2\") & (a[\"loan_status\"]==\"Fully Paid\")])/len(a[a[\"sub_grade\"]==\"F2\"]))\n",
    "print(\"the recovery for \\033[1msubgrade F3\\033[0m is :\",len(a[(a[\"sub_grade\"]==\"F3\") & (a[\"loan_status\"]==\"Fully Paid\")])/len(a[a[\"sub_grade\"]==\"F3\"]))\n",
    "print(\"the recovery for \\033[1msubgrade F4\\033[0m is :\",len(a[(a[\"sub_grade\"]==\"F4\") & (a[\"loan_status\"]==\"Fully Paid\")])/len(a[a[\"sub_grade\"]==\"F4\"]))\n",
    "print(\"the recovery for \\033[1msubgrade F5\\033[0m is :\",len(a[(a[\"sub_grade\"]==\"F5\") & (a[\"loan_status\"]==\"Fully Paid\")])/len(a[a[\"sub_grade\"]==\"F5\"]))\n",
    "print(\"\\n\\n\\n\\n\")\n",
    "\n",
    "\n",
    "print(\"\\033[1mThe recovery for \\033[4mGrade G\\033[0m is :\",len(a[(a[\"grade\"]==\"G\") & (a[\"loan_status\"]==\"Fully Paid\")])/len(a[a[\"grade\"]==\"G\"]))\n",
    "print(\"\\n\")\n",
    "print(\"the recovery for \\033[1msubgrade G1\\033[0m is :\",len(a[(a[\"sub_grade\"]==\"G1\") & (a[\"loan_status\"]==\"Fully Paid\")])/len(a[a[\"sub_grade\"]==\"G1\"]))\n",
    "print(\"the recovery for \\033[1msubgrade G2\\033[0m is :\",len(a[(a[\"sub_grade\"]==\"G2\") & (a[\"loan_status\"]==\"Fully Paid\")])/len(a[a[\"sub_grade\"]==\"G2\"]))\n",
    "print(\"the recovery for \\033[1msubgrade G3\\033[0m is :\",len(a[(a[\"sub_grade\"]==\"G3\") & (a[\"loan_status\"]==\"Fully Paid\")])/len(a[a[\"sub_grade\"]==\"G3\"]))\n",
    "print(\"the recovery for \\033[1msubgrade G4\\033[0m is :\",len(a[(a[\"sub_grade\"]==\"G4\") & (a[\"loan_status\"]==\"Fully Paid\")])/len(a[a[\"sub_grade\"]==\"G4\"]))\n",
    "print(\"the recovery for \\033[1msubgrade G5\\033[0m is :\",len(a[(a[\"sub_grade\"]==\"G5\") & (a[\"loan_status\"]==\"Fully Paid\")])/len(a[a[\"sub_grade\"]==\"G5\"]))"
   ]
  },
  {
   "cell_type": "code",
   "execution_count": 68,
   "id": "5948d317",
   "metadata": {},
   "outputs": [
    {
     "data": {
      "image/png": "[encoded data removed]",
      "text/plain": [
       "<Figure size 432x288 with 1 Axes>"
      ]
     },
     "metadata": {
      "needs_background": "light"
     },
     "output_type": "display_data"
    }
   ],
   "source": [
    "a_f=loan_df[loan_df[\"loan_status\"]==\"Fully Paid\"][\"int_rate\"]\n",
    "a_c=loan_df[loan_df[\"loan_status\"]==\"Charged Off\"][\"int_rate\"]\n",
    "plt.boxplot([a_f,a_c],labels=(\"Fully Paid\",\"Charged off\"))\n",
    "plt.title(\"Interest rate based on Loan status\",fontdict={\"fontsize\":15,\"fontweight\":8,\"color\":\"green\"})\n",
    "plt.show()"
   ]
  },
  {
   "cell_type": "markdown",
   "id": "dad92d7c",
   "metadata": {},
   "source": [
    "Again the result is as expected but there are outliers"
   ]
  },
  {
   "cell_type": "code",
   "execution_count": 69,
   "id": "16cc801f",
   "metadata": {},
   "outputs": [
    {
     "name": "stdout",
     "output_type": "stream",
     "text": [
      "The recover rate of employee length \u001b[1m\u001b[4m10 years\u001b[0m : 0.836256695725239\n",
      "The recover rate of employee length \u001b[1m\u001b[4m9 years\u001b[0m  : 0.8711256117455138\n",
      "The recover rate of employee length \u001b[1m\u001b[4m8 years\u001b[0m  : 0.8585365853658536\n",
      "The recover rate of employee length \u001b[1m\u001b[4m7 years\u001b[0m  : 0.8462887200467563\n",
      "The recover rate of employee length \u001b[1m\u001b[4m6 years\u001b[0m  : 0.8583948339483395\n",
      "The recover rate of employee length \u001b[1m\u001b[4m5 years\u001b[0m  : 0.8566061365059486\n",
      "The recover rate of employee length \u001b[1m\u001b[4m4 years\u001b[0m  : 0.8617594254937163\n",
      "The recover rate of employee length \u001b[1m\u001b[4m3 years\u001b[0m  : 0.8616650049850448\n",
      "The recover rate of employee length \u001b[1m\u001b[4m2 years\u001b[0m  : 0.867862969004894\n",
      "The recover rate of employee length \u001b[1m\u001b[4m1 years\u001b[0m  : 0.8573661586557249\n"
     ]
    }
   ],
   "source": [
    "print(\"The recover rate of employee length \\033[1m\\033[4m10 years\\033[0m :\",len(loan_df[(loan_df[\"emp_length\"]==\"10\") & (loan_df[\"loan_status\"]==\"Fully Paid\")])/len(loan_df[loan_df[\"emp_length\"]==\"10\"]))\n",
    "print(\"The recover rate of employee length \\033[1m\\033[4m9 years\\033[0m  :\",len(loan_df[(loan_df[\"emp_length\"]==\"9\") & (loan_df[\"loan_status\"]==\"Fully Paid\")])/len(loan_df[loan_df[\"emp_length\"]==\"9\"]))\n",
    "print(\"The recover rate of employee length \\033[1m\\033[4m8 years\\033[0m  :\",len(loan_df[(loan_df[\"emp_length\"]==\"8\") & (loan_df[\"loan_status\"]==\"Fully Paid\")])/len(loan_df[loan_df[\"emp_length\"]==\"8\"]))\n",
    "print(\"The recover rate of employee length \\033[1m\\033[4m7 years\\033[0m  :\",len(loan_df[(loan_df[\"emp_length\"]==\"7\") & (loan_df[\"loan_status\"]==\"Fully Paid\")])/len(loan_df[loan_df[\"emp_length\"]==\"7\"]))\n",
    "print(\"The recover rate of employee length \\033[1m\\033[4m6 years\\033[0m  :\",len(loan_df[(loan_df[\"emp_length\"]==\"6\") & (loan_df[\"loan_status\"]==\"Fully Paid\")])/len(loan_df[loan_df[\"emp_length\"]==\"6\"]))\n",
    "print(\"The recover rate of employee length \\033[1m\\033[4m5 years\\033[0m  :\",len(loan_df[(loan_df[\"emp_length\"]==\"5\") & (loan_df[\"loan_status\"]==\"Fully Paid\")])/len(loan_df[loan_df[\"emp_length\"]==\"5\"]))\n",
    "print(\"The recover rate of employee length \\033[1m\\033[4m4 years\\033[0m  :\",len(loan_df[(loan_df[\"emp_length\"]==\"4\") & (loan_df[\"loan_status\"]==\"Fully Paid\")])/len(loan_df[loan_df[\"emp_length\"]==\"4\"]))\n",
    "print(\"The recover rate of employee length \\033[1m\\033[4m3 years\\033[0m  :\",len(loan_df[(loan_df[\"emp_length\"]==\"3\") & (loan_df[\"loan_status\"]==\"Fully Paid\")])/len(loan_df[loan_df[\"emp_length\"]==\"3\"]))\n",
    "print(\"The recover rate of employee length \\033[1m\\033[4m2 years\\033[0m  :\",len(loan_df[(loan_df[\"emp_length\"]==\"2\") & (loan_df[\"loan_status\"]==\"Fully Paid\")])/len(loan_df[loan_df[\"emp_length\"]==\"2\"]))\n",
    "print(\"The recover rate of employee length \\033[1m\\033[4m1 years\\033[0m  :\",len(loan_df[(loan_df[\"emp_length\"]==\"1\") & (loan_df[\"loan_status\"]==\"Fully Paid\")])/len(loan_df[loan_df[\"emp_length\"]==\"1\"]))"
   ]
  },
  {
   "cell_type": "markdown",
   "id": "600c30c8",
   "metadata": {},
   "source": [
    "across the whole spectrum of employee length the recovery rate is the same"
   ]
  },
  {
   "cell_type": "code",
   "execution_count": 70,
   "id": "879c6f56",
   "metadata": {},
   "outputs": [
    {
     "data": {
      "image/png": "[encoded data removed]",
      "text/plain": [
       "<Figure size 432x288 with 1 Axes>"
      ]
     },
     "metadata": {
      "needs_background": "light"
     },
     "output_type": "display_data"
    }
   ],
   "source": [
    "a_f=loan_df[loan_df[\"loan_status\"]==\"Fully Paid\"][\"loan_amnt\"]\n",
    "a_c=loan_df[loan_df[\"loan_status\"]==\"Charged Off\"][\"loan_amnt\"]\n",
    "plt.boxplot([a_f,a_c],labels=(\"Fully Paid\",\"Charged Off\"))\n",
    "plt.title(\"Box Plot of the Loan Amount\",fontdict={\"fontsize\":15,\"fontweight\":8,\"color\":\"green\"})\n",
    "plt.show()"
   ]
  },
  {
   "cell_type": "markdown",
   "id": "e0b72de8",
   "metadata": {},
   "source": [
    "It is Almost Same yes there is variance but almost similar"
   ]
  },
  {
   "cell_type": "code",
   "execution_count": 71,
   "id": "e9994ad1",
   "metadata": {},
   "outputs": [
    {
     "data": {
      "image/png": "[encoded data removed]",
      "text/plain": [
       "<Figure size 432x288 with 1 Axes>"
      ]
     },
     "metadata": {
      "needs_background": "light"
     },
     "output_type": "display_data"
    }
   ],
   "source": [
    "a_f=loan_df[loan_df[\"loan_status\"]==\"Fully Paid\"][\"installment\"]\n",
    "a_c=loan_df[loan_df[\"loan_status\"]==\"Charged Off\"][\"installment\"]\n",
    "plt.boxplot([a_f,a_c],labels=(\"Fully Paid\",\"Charged Off\"))\n",
    "plt.title(\"Box Plot of the Loan Amount\",fontdict={\"fontsize\":15,\"fontweight\":8,\"color\":\"green\"})\n",
    "plt.show()"
   ]
  },
  {
   "cell_type": "code",
   "execution_count": 72,
   "id": "0018805c",
   "metadata": {},
   "outputs": [],
   "source": [
    "a=pd.qcut(loan_df[\"annual_inc\"],q=5,precision=0,labels=(\"low\",\"normal\",\"moderate\",\"high\",\"hyper\"))"
   ]
  },
  {
   "cell_type": "markdown",
   "id": "cfc787bf",
   "metadata": {},
   "source": [
    "(65004.0, 90000.0] -----> Low<br>\n",
    "(37196.0, 50004.0] -----> Normal<br>\n",
    "(3999.0, 37196.0]  -----> Moderate<br>\n",
    "(50004.0, 65004.0] -----> High<br>\n",
    "(90000.0, 6000000.0]----> Hyper<br>\n",
    "For the column annual income"
   ]
  },
  {
   "cell_type": "code",
   "execution_count": 73,
   "id": "de0e52f9",
   "metadata": {},
   "outputs": [],
   "source": [
    "a=pd.concat([a,loan_df[\"loan_status\"]],axis=1)"
   ]
  },
  {
   "cell_type": "code",
   "execution_count": 74,
   "id": "ec1f0235",
   "metadata": {},
   "outputs": [],
   "source": [
    "a.to_excel(\"a.xlsx\")"
   ]
  },
  {
   "cell_type": "code",
   "execution_count": 75,
   "id": "5fcdd141",
   "metadata": {},
   "outputs": [
    {
     "name": "stdout",
     "output_type": "stream",
     "text": [
      "the recovery rate for \u001b[1m\u001b[4mLow amount\u001b[0m is      : 0.8168740279937792\n",
      "the recovery rate for \u001b[1m\u001b[4mNormal amount\u001b[0m is   : 0.8430741503604532\n",
      "the recovery rate for \u001b[1m\u001b[4mModerate amount\u001b[0m is : 0.8503711420757911\n",
      "the recovery rate for \u001b[1m\u001b[4mHigh amount\u001b[0m is     : 0.8703493504855594\n",
      "the recovery rate for \u001b[1m\u001b[4mHyper amount\u001b[0m is    : 0.8907147628590515\n"
     ]
    }
   ],
   "source": [
    "print(\"the recovery rate for \\033[1m\\033[4mLow amount\\033[0m is      :\",len(a[(a[\"annual_inc\"]==\"low\") & (a[\"loan_status\"]==\"Fully Paid\")])/len(a[a[\"annual_inc\"]==\"low\"]))\n",
    "print(\"the recovery rate for \\033[1m\\033[4mNormal amount\\033[0m is   :\",len(a[(a[\"annual_inc\"]==\"normal\") & (a[\"loan_status\"]==\"Fully Paid\")])/len(a[a[\"annual_inc\"]==\"normal\"]))\n",
    "print(\"the recovery rate for \\033[1m\\033[4mModerate amount\\033[0m is :\",len(a[(a[\"annual_inc\"]==\"moderate\") & (a[\"loan_status\"]==\"Fully Paid\")])/len(a[a[\"annual_inc\"]==\"moderate\"]))\n",
    "print(\"the recovery rate for \\033[1m\\033[4mHigh amount\\033[0m is     :\",len(a[(a[\"annual_inc\"]==\"high\") & (a[\"loan_status\"]==\"Fully Paid\")])/len(a[a[\"annual_inc\"]==\"high\"]))\n",
    "print(\"the recovery rate for \\033[1m\\033[4mHyper amount\\033[0m is    :\",len(a[(a[\"annual_inc\"]==\"hyper\") & (a[\"loan_status\"]==\"Fully Paid\")])/len(a[a[\"annual_inc\"]==\"hyper\"]))"
   ]
  },
  {
   "cell_type": "code",
   "execution_count": 76,
   "id": "b011dc6e",
   "metadata": {},
   "outputs": [
    {
     "data": {
      "text/plain": [
       "Index(['RENT', 'MORTGAGE', 'OWN', 'OTHER', 'NONE'], dtype='object')"
      ]
     },
     "execution_count": 76,
     "metadata": {},
     "output_type": "execute_result"
    }
   ],
   "source": [
    "a=loan_df[\"home_ownership\"].value_counts()\n",
    "a.index"
   ]
  },
  {
   "cell_type": "code",
   "execution_count": 77,
   "id": "2ea6a1bc",
   "metadata": {},
   "outputs": [
    {
     "name": "stdout",
     "output_type": "stream",
     "text": [
      "the recovery rate for \u001b[1m\u001b[4mRented House\u001b[0m is    : 0.8463744588744588\n",
      "the recovery rate for \u001b[1m\u001b[4mhome mortaged\u001b[0m is   : 0.8632865284060866\n",
      "the recovery rate for \u001b[1m\u001b[4mhomeowner\u001b[0m is       : 0.8510924369747899\n",
      "the recovery rate for \u001b[1m\u001b[4mOther owernship\u001b[0m is : 0.8163265306122449\n"
     ]
    }
   ],
   "source": [
    "print(\"the recovery rate for \\033[1m\\033[4mRented House\\033[0m is    :\",len(loan_df[(loan_df[\"home_ownership\"]==\"RENT\") & (loan_df[\"loan_status\"]==\"Fully Paid\")])/len(loan_df[loan_df[\"home_ownership\"]==\"RENT\"]))\n",
    "print(\"the recovery rate for \\033[1m\\033[4mhome mortaged\\033[0m is   :\",len(loan_df[(loan_df[\"home_ownership\"]==\"MORTGAGE\") & (loan_df[\"loan_status\"]==\"Fully Paid\")])/len(loan_df[loan_df[\"home_ownership\"]==\"MORTGAGE\"]))\n",
    "print(\"the recovery rate for \\033[1m\\033[4mhomeowner\\033[0m is       :\",len(loan_df[(loan_df[\"home_ownership\"]==\"OWN\") & (loan_df[\"loan_status\"]==\"Fully Paid\")])/len(loan_df[loan_df[\"home_ownership\"]==\"OWN\"]))\n",
    "print(\"the recovery rate for \\033[1m\\033[4mOther owernship\\033[0m is :\",len(loan_df[(loan_df[\"home_ownership\"]==\"OTHER\") & (loan_df[\"loan_status\"]==\"Fully Paid\")])/len(loan_df[loan_df[\"home_ownership\"]==\"OTHER\"]))\n"
   ]
  },
  {
   "cell_type": "code",
   "execution_count": 78,
   "id": "8f627541",
   "metadata": {},
   "outputs": [
    {
     "name": "stdout",
     "output_type": "stream",
     "text": [
      "The Recover rate for\u001b[1m\u001b[4m debt_consolidation \u001b[0m is : 0.84674605372473\n",
      "The Recover rate for\u001b[1m\u001b[4m credit_card \u001b[0m is : 0.8921822160334195\n",
      "The Recover rate for\u001b[1m\u001b[4m other \u001b[0m is : 0.8362225097024579\n",
      "The Recover rate for\u001b[1m\u001b[4m home_improvement \u001b[0m is : 0.8793043478260869\n",
      "The Recover rate for\u001b[1m\u001b[4m major_purchase \u001b[0m is : 0.8967441860465116\n",
      "The Recover rate for\u001b[1m\u001b[4m small_business \u001b[0m is : 0.7291904218928165\n",
      "The Recover rate for\u001b[1m\u001b[4m car \u001b[0m is : 0.8932621747831888\n",
      "The Recover rate for\u001b[1m\u001b[4m wedding \u001b[0m is : 0.896328293736501\n",
      "The Recover rate for\u001b[1m\u001b[4m medical \u001b[0m is : 0.8443465491923642\n",
      "The Recover rate for\u001b[1m\u001b[4m moving \u001b[0m is : 0.8402777777777778\n",
      "The Recover rate for\u001b[1m\u001b[4m vacation \u001b[0m is : 0.8586666666666667\n",
      "The Recover rate for\u001b[1m\u001b[4m house \u001b[0m is : 0.8392370572207084\n",
      "The Recover rate for\u001b[1m\u001b[4m educational \u001b[0m is : 0.8276923076923077\n",
      "The Recover rate for\u001b[1m\u001b[4m renewable_energy \u001b[0m is : 0.8137254901960784\n"
     ]
    }
   ],
   "source": [
    "a=loan_df[\"purpose\"].value_counts()\n",
    "for x in a.index:\n",
    "    print(\"The Recover rate for\\033[1m\\033[4m\",x,'\\033[0m is :',len(loan_df[(loan_df[\"purpose\"]==x) & (loan_df[\"loan_status\"]==\"Fully Paid\")])/len(loan_df[loan_df[\"purpose\"]==x]))"
   ]
  },
  {
   "cell_type": "code",
   "execution_count": 79,
   "id": "33c3e0aa",
   "metadata": {},
   "outputs": [
    {
     "data": {
      "image/png": "[encoded data removed]",
      "text/plain": [
       "<Figure size 432x288 with 1 Axes>"
      ]
     },
     "metadata": {
      "needs_background": "light"
     },
     "output_type": "display_data"
    }
   ],
   "source": [
    "a_f=loan_df[loan_df[\"loan_status\"]==\"Fully Paid\"][\"dti\"]\n",
    "a_c=loan_df[loan_df[\"loan_status\"]==\"Charged Off\"][\"dti\"]\n",
    "plt.boxplot([a_f,a_c],labels=(\"Fully Paid\",\"Charged Off\"))\n",
    "plt.title(\"Box plot for dti against Loan Status\",fontdict={\"fontsize\":15,\"fontweight\":7,\"color\":\"green\"})\n",
    "plt.show()"
   ]
  },
  {
   "cell_type": "markdown",
   "id": "142424d4",
   "metadata": {},
   "source": [
    "## Bivariate Analysis "
   ]
  },
  {
   "cell_type": "code",
   "execution_count": 80,
   "id": "506e6e85",
   "metadata": {},
   "outputs": [],
   "source": [
    "loan_bi=loan_df.loc[:,[\"grade\",\"int_rate\",\"loan_amnt\",\"installment\",\"annual_inc\",\"dti\"]]"
   ]
  },
  {
   "cell_type": "code",
   "execution_count": 81,
   "id": "98516ad2",
   "metadata": {},
   "outputs": [
    {
     "data": {
      "text/plain": [
       "Index(['id', 'member_id', 'loan_amnt', 'funded_amnt', 'funded_amnt_inv',\n",
       "       'term', 'int_rate', 'installment', 'grade', 'sub_grade', 'emp_length',\n",
       "       'home_ownership', 'annual_inc', 'verification_status', 'loan_status',\n",
       "       'purpose', 'title', 'addr_state', 'dti', 'delinq_2yrs',\n",
       "       'earliest_cr_line', 'inq_last_6mths', 'open_acc', 'pub_rec',\n",
       "       'revol_bal', 'revol_util', 'total_acc', 'total_pymnt',\n",
       "       'total_pymnt_inv', 'total_rec_prncp', 'total_rec_int',\n",
       "       'total_rec_late_fee', 'recoveries', 'collection_recovery_fee',\n",
       "       'last_credit_pull_d', 'pub_rec_bankruptcies'],\n",
       "      dtype='object')"
      ]
     },
     "execution_count": 81,
     "metadata": {},
     "output_type": "execute_result"
    }
   ],
   "source": [
    "loan_df.columns"
   ]
  },
  {
   "cell_type": "code",
   "execution_count": 82,
   "id": "89fdba12",
   "metadata": {},
   "outputs": [
    {
     "data": {
      "text/html": [
       "<div>\n",
       "<style scoped>\n",
       "    .dataframe tbody tr th:only-of-type {\n",
       "        vertical-align: middle;\n",
       "    }\n",
       "\n",
       "    .dataframe tbody tr th {\n",
       "        vertical-align: top;\n",
       "    }\n",
       "\n",
       "    .dataframe thead th {\n",
       "        text-align: right;\n",
       "    }\n",
       "</style>\n",
       "<table border=\"1\" class=\"dataframe\">\n",
       "  <thead>\n",
       "    <tr style=\"text-align: right;\">\n",
       "      <th></th>\n",
       "      <th>int_rate</th>\n",
       "      <th>loan_amnt</th>\n",
       "      <th>installment</th>\n",
       "      <th>annual_inc</th>\n",
       "      <th>dti</th>\n",
       "    </tr>\n",
       "    <tr>\n",
       "      <th>grade</th>\n",
       "      <th></th>\n",
       "      <th></th>\n",
       "      <th></th>\n",
       "      <th></th>\n",
       "      <th></th>\n",
       "    </tr>\n",
       "  </thead>\n",
       "  <tbody>\n",
       "    <tr>\n",
       "      <th>A</th>\n",
       "      <td>7.330979</td>\n",
       "      <td>8618.758089</td>\n",
       "      <td>256.950083</td>\n",
       "      <td>66681.565741</td>\n",
       "      <td>12.045246</td>\n",
       "    </tr>\n",
       "    <tr>\n",
       "      <th>B</th>\n",
       "      <td>11.007782</td>\n",
       "      <td>10934.783726</td>\n",
       "      <td>319.610696</td>\n",
       "      <td>67561.088141</td>\n",
       "      <td>13.384532</td>\n",
       "    </tr>\n",
       "    <tr>\n",
       "      <th>C</th>\n",
       "      <td>13.533565</td>\n",
       "      <td>10815.518892</td>\n",
       "      <td>317.681621</td>\n",
       "      <td>67731.499824</td>\n",
       "      <td>13.852776</td>\n",
       "    </tr>\n",
       "    <tr>\n",
       "      <th>D</th>\n",
       "      <td>15.661282</td>\n",
       "      <td>12137.767945</td>\n",
       "      <td>363.333337</td>\n",
       "      <td>68283.875176</td>\n",
       "      <td>13.923591</td>\n",
       "    </tr>\n",
       "    <tr>\n",
       "      <th>E</th>\n",
       "      <td>17.630364</td>\n",
       "      <td>15680.116410</td>\n",
       "      <td>426.914855</td>\n",
       "      <td>77791.061491</td>\n",
       "      <td>14.035208</td>\n",
       "    </tr>\n",
       "    <tr>\n",
       "      <th>F</th>\n",
       "      <td>19.643494</td>\n",
       "      <td>18095.235656</td>\n",
       "      <td>493.663514</td>\n",
       "      <td>83482.034457</td>\n",
       "      <td>14.207848</td>\n",
       "    </tr>\n",
       "    <tr>\n",
       "      <th>G</th>\n",
       "      <td>21.312308</td>\n",
       "      <td>20253.010033</td>\n",
       "      <td>576.277592</td>\n",
       "      <td>94273.316087</td>\n",
       "      <td>14.034615</td>\n",
       "    </tr>\n",
       "  </tbody>\n",
       "</table>\n",
       "</div>"
      ],
      "text/plain": [
       "        int_rate     loan_amnt  installment    annual_inc        dti\n",
       "grade                                                               \n",
       "A       7.330979   8618.758089   256.950083  66681.565741  12.045246\n",
       "B      11.007782  10934.783726   319.610696  67561.088141  13.384532\n",
       "C      13.533565  10815.518892   317.681621  67731.499824  13.852776\n",
       "D      15.661282  12137.767945   363.333337  68283.875176  13.923591\n",
       "E      17.630364  15680.116410   426.914855  77791.061491  14.035208\n",
       "F      19.643494  18095.235656   493.663514  83482.034457  14.207848\n",
       "G      21.312308  20253.010033   576.277592  94273.316087  14.034615"
      ]
     },
     "execution_count": 82,
     "metadata": {},
     "output_type": "execute_result"
    }
   ],
   "source": [
    "loan_bi.groupby(by=\"grade\").mean()"
   ]
  },
  {
   "cell_type": "code",
   "execution_count": 83,
   "id": "26c7a84c",
   "metadata": {},
   "outputs": [
    {
     "data": {
      "text/html": [
       "<div>\n",
       "<style scoped>\n",
       "    .dataframe tbody tr th:only-of-type {\n",
       "        vertical-align: middle;\n",
       "    }\n",
       "\n",
       "    .dataframe tbody tr th {\n",
       "        vertical-align: top;\n",
       "    }\n",
       "\n",
       "    .dataframe thead th {\n",
       "        text-align: right;\n",
       "    }\n",
       "</style>\n",
       "<table border=\"1\" class=\"dataframe\">\n",
       "  <thead>\n",
       "    <tr style=\"text-align: right;\">\n",
       "      <th></th>\n",
       "      <th>int_rate</th>\n",
       "      <th>loan_amnt</th>\n",
       "      <th>installment</th>\n",
       "      <th>annual_inc</th>\n",
       "      <th>dti</th>\n",
       "    </tr>\n",
       "    <tr>\n",
       "      <th>sub_grade</th>\n",
       "      <th></th>\n",
       "      <th></th>\n",
       "      <th></th>\n",
       "      <th></th>\n",
       "      <th></th>\n",
       "    </tr>\n",
       "  </thead>\n",
       "  <tbody>\n",
       "    <tr>\n",
       "      <th>A1</th>\n",
       "      <td>5.805224</td>\n",
       "      <td>7261.040386</td>\n",
       "      <td>219.862256</td>\n",
       "      <td>67066.392318</td>\n",
       "      <td>10.753064</td>\n",
       "    </tr>\n",
       "    <tr>\n",
       "      <th>A2</th>\n",
       "      <td>6.378733</td>\n",
       "      <td>7361.306366</td>\n",
       "      <td>220.458521</td>\n",
       "      <td>66229.615458</td>\n",
       "      <td>11.537076</td>\n",
       "    </tr>\n",
       "    <tr>\n",
       "      <th>A3</th>\n",
       "      <td>7.164552</td>\n",
       "      <td>7886.698895</td>\n",
       "      <td>234.946746</td>\n",
       "      <td>66362.417182</td>\n",
       "      <td>12.014050</td>\n",
       "    </tr>\n",
       "    <tr>\n",
       "      <th>A4</th>\n",
       "      <td>7.660428</td>\n",
       "      <td>9319.822485</td>\n",
       "      <td>277.932001</td>\n",
       "      <td>66092.153432</td>\n",
       "      <td>12.385778</td>\n",
       "    </tr>\n",
       "    <tr>\n",
       "      <th>A5</th>\n",
       "      <td>8.262302</td>\n",
       "      <td>9632.955801</td>\n",
       "      <td>285.243746</td>\n",
       "      <td>67607.629834</td>\n",
       "      <td>12.530048</td>\n",
       "    </tr>\n",
       "    <tr>\n",
       "      <th>B1</th>\n",
       "      <td>10.004925</td>\n",
       "      <td>9700.820812</td>\n",
       "      <td>298.162632</td>\n",
       "      <td>64158.371681</td>\n",
       "      <td>12.793105</td>\n",
       "    </tr>\n",
       "    <tr>\n",
       "      <th>B2</th>\n",
       "      <td>10.486097</td>\n",
       "      <td>10396.226887</td>\n",
       "      <td>313.512234</td>\n",
       "      <td>67673.528221</td>\n",
       "      <td>13.044323</td>\n",
       "    </tr>\n",
       "    <tr>\n",
       "      <th>B3</th>\n",
       "      <td>10.981062</td>\n",
       "      <td>11392.716814</td>\n",
       "      <td>330.224722</td>\n",
       "      <td>70465.774673</td>\n",
       "      <td>13.408064</td>\n",
       "    </tr>\n",
       "    <tr>\n",
       "      <th>B4</th>\n",
       "      <td>11.392548</td>\n",
       "      <td>11199.446040</td>\n",
       "      <td>318.931707</td>\n",
       "      <td>67717.901432</td>\n",
       "      <td>13.669159</td>\n",
       "    </tr>\n",
       "    <tr>\n",
       "      <th>B5</th>\n",
       "      <td>11.766421</td>\n",
       "      <td>11453.499044</td>\n",
       "      <td>328.182501</td>\n",
       "      <td>66529.269954</td>\n",
       "      <td>13.760608</td>\n",
       "    </tr>\n",
       "    <tr>\n",
       "      <th>C1</th>\n",
       "      <td>12.835839</td>\n",
       "      <td>10970.559611</td>\n",
       "      <td>315.613538</td>\n",
       "      <td>70069.118467</td>\n",
       "      <td>13.775343</td>\n",
       "    </tr>\n",
       "    <tr>\n",
       "      <th>C2</th>\n",
       "      <td>13.328498</td>\n",
       "      <td>11191.261005</td>\n",
       "      <td>322.088954</td>\n",
       "      <td>67305.552284</td>\n",
       "      <td>13.783149</td>\n",
       "    </tr>\n",
       "    <tr>\n",
       "      <th>C3</th>\n",
       "      <td>13.638320</td>\n",
       "      <td>10719.321237</td>\n",
       "      <td>316.030585</td>\n",
       "      <td>67244.733024</td>\n",
       "      <td>13.637077</td>\n",
       "    </tr>\n",
       "    <tr>\n",
       "      <th>C4</th>\n",
       "      <td>14.026086</td>\n",
       "      <td>10420.936982</td>\n",
       "      <td>318.687222</td>\n",
       "      <td>65545.877446</td>\n",
       "      <td>14.205688</td>\n",
       "    </tr>\n",
       "    <tr>\n",
       "      <th>C5</th>\n",
       "      <td>14.469402</td>\n",
       "      <td>10447.097054</td>\n",
       "      <td>315.067530</td>\n",
       "      <td>67193.257166</td>\n",
       "      <td>14.016490</td>\n",
       "    </tr>\n",
       "    <tr>\n",
       "      <th>D1</th>\n",
       "      <td>14.853169</td>\n",
       "      <td>10008.404941</td>\n",
       "      <td>342.353963</td>\n",
       "      <td>64944.735865</td>\n",
       "      <td>13.826219</td>\n",
       "    </tr>\n",
       "    <tr>\n",
       "      <th>D2</th>\n",
       "      <td>15.300202</td>\n",
       "      <td>11410.419907</td>\n",
       "      <td>340.717037</td>\n",
       "      <td>68560.118281</td>\n",
       "      <td>14.013849</td>\n",
       "    </tr>\n",
       "    <tr>\n",
       "      <th>D3</th>\n",
       "      <td>15.714937</td>\n",
       "      <td>12488.642473</td>\n",
       "      <td>365.976711</td>\n",
       "      <td>67388.896532</td>\n",
       "      <td>13.967742</td>\n",
       "    </tr>\n",
       "    <tr>\n",
       "      <th>D4</th>\n",
       "      <td>16.086536</td>\n",
       "      <td>13288.044662</td>\n",
       "      <td>385.962821</td>\n",
       "      <td>70072.856874</td>\n",
       "      <td>13.908671</td>\n",
       "    </tr>\n",
       "    <tr>\n",
       "      <th>D5</th>\n",
       "      <td>16.580276</td>\n",
       "      <td>13900.689448</td>\n",
       "      <td>393.180444</td>\n",
       "      <td>70813.852434</td>\n",
       "      <td>13.850456</td>\n",
       "    </tr>\n",
       "    <tr>\n",
       "      <th>E1</th>\n",
       "      <td>16.943199</td>\n",
       "      <td>14628.774238</td>\n",
       "      <td>408.567036</td>\n",
       "      <td>73123.241316</td>\n",
       "      <td>13.916066</td>\n",
       "    </tr>\n",
       "    <tr>\n",
       "      <th>E2</th>\n",
       "      <td>17.356889</td>\n",
       "      <td>14976.750814</td>\n",
       "      <td>408.119104</td>\n",
       "      <td>75313.801645</td>\n",
       "      <td>14.244495</td>\n",
       "    </tr>\n",
       "    <tr>\n",
       "      <th>E3</th>\n",
       "      <td>17.722965</td>\n",
       "      <td>15456.395349</td>\n",
       "      <td>418.928101</td>\n",
       "      <td>77025.252907</td>\n",
       "      <td>13.677558</td>\n",
       "    </tr>\n",
       "    <tr>\n",
       "      <th>E4</th>\n",
       "      <td>18.182358</td>\n",
       "      <td>16549.941038</td>\n",
       "      <td>441.619198</td>\n",
       "      <td>76852.545000</td>\n",
       "      <td>14.161486</td>\n",
       "    </tr>\n",
       "    <tr>\n",
       "      <th>E5</th>\n",
       "      <td>18.618010</td>\n",
       "      <td>18102.777778</td>\n",
       "      <td>485.504625</td>\n",
       "      <td>92479.154341</td>\n",
       "      <td>14.263953</td>\n",
       "    </tr>\n",
       "    <tr>\n",
       "      <th>F1</th>\n",
       "      <td>19.085738</td>\n",
       "      <td>17861.885246</td>\n",
       "      <td>479.642131</td>\n",
       "      <td>82561.240262</td>\n",
       "      <td>13.968393</td>\n",
       "    </tr>\n",
       "    <tr>\n",
       "      <th>F2</th>\n",
       "      <td>19.284077</td>\n",
       "      <td>17497.424893</td>\n",
       "      <td>478.560858</td>\n",
       "      <td>81197.680343</td>\n",
       "      <td>14.252747</td>\n",
       "    </tr>\n",
       "    <tr>\n",
       "      <th>F3</th>\n",
       "      <td>19.945402</td>\n",
       "      <td>18251.149425</td>\n",
       "      <td>499.578621</td>\n",
       "      <td>87023.843276</td>\n",
       "      <td>14.333161</td>\n",
       "    </tr>\n",
       "    <tr>\n",
       "      <th>F4</th>\n",
       "      <td>20.206358</td>\n",
       "      <td>17652.980132</td>\n",
       "      <td>483.513510</td>\n",
       "      <td>79169.306225</td>\n",
       "      <td>14.446358</td>\n",
       "    </tr>\n",
       "    <tr>\n",
       "      <th>F5</th>\n",
       "      <td>20.673009</td>\n",
       "      <td>20308.628319</td>\n",
       "      <td>567.104779</td>\n",
       "      <td>90986.848319</td>\n",
       "      <td>14.249912</td>\n",
       "    </tr>\n",
       "    <tr>\n",
       "      <th>G1</th>\n",
       "      <td>20.960745</td>\n",
       "      <td>20088.031915</td>\n",
       "      <td>581.762553</td>\n",
       "      <td>88541.605957</td>\n",
       "      <td>12.711702</td>\n",
       "    </tr>\n",
       "    <tr>\n",
       "      <th>G2</th>\n",
       "      <td>21.039221</td>\n",
       "      <td>20615.909091</td>\n",
       "      <td>576.679221</td>\n",
       "      <td>88348.492987</td>\n",
       "      <td>14.780909</td>\n",
       "    </tr>\n",
       "    <tr>\n",
       "      <th>G3</th>\n",
       "      <td>21.489111</td>\n",
       "      <td>20046.666667</td>\n",
       "      <td>558.475778</td>\n",
       "      <td>91019.755556</td>\n",
       "      <td>15.766222</td>\n",
       "    </tr>\n",
       "    <tr>\n",
       "      <th>G4</th>\n",
       "      <td>21.902407</td>\n",
       "      <td>20487.037037</td>\n",
       "      <td>581.146852</td>\n",
       "      <td>109275.918333</td>\n",
       "      <td>13.848889</td>\n",
       "    </tr>\n",
       "    <tr>\n",
       "      <th>G5</th>\n",
       "      <td>21.803793</td>\n",
       "      <td>19708.620690</td>\n",
       "      <td>575.988966</td>\n",
       "      <td>105696.137931</td>\n",
       "      <td>14.000000</td>\n",
       "    </tr>\n",
       "  </tbody>\n",
       "</table>\n",
       "</div>"
      ],
      "text/plain": [
       "            int_rate     loan_amnt  installment     annual_inc        dti\n",
       "sub_grade                                                                \n",
       "A1          5.805224   7261.040386   219.862256   67066.392318  10.753064\n",
       "A2          6.378733   7361.306366   220.458521   66229.615458  11.537076\n",
       "A3          7.164552   7886.698895   234.946746   66362.417182  12.014050\n",
       "A4          7.660428   9319.822485   277.932001   66092.153432  12.385778\n",
       "A5          8.262302   9632.955801   285.243746   67607.629834  12.530048\n",
       "B1         10.004925   9700.820812   298.162632   64158.371681  12.793105\n",
       "B2         10.486097  10396.226887   313.512234   67673.528221  13.044323\n",
       "B3         10.981062  11392.716814   330.224722   70465.774673  13.408064\n",
       "B4         11.392548  11199.446040   318.931707   67717.901432  13.669159\n",
       "B5         11.766421  11453.499044   328.182501   66529.269954  13.760608\n",
       "C1         12.835839  10970.559611   315.613538   70069.118467  13.775343\n",
       "C2         13.328498  11191.261005   322.088954   67305.552284  13.783149\n",
       "C3         13.638320  10719.321237   316.030585   67244.733024  13.637077\n",
       "C4         14.026086  10420.936982   318.687222   65545.877446  14.205688\n",
       "C5         14.469402  10447.097054   315.067530   67193.257166  14.016490\n",
       "D1         14.853169  10008.404941   342.353963   64944.735865  13.826219\n",
       "D2         15.300202  11410.419907   340.717037   68560.118281  14.013849\n",
       "D3         15.714937  12488.642473   365.976711   67388.896532  13.967742\n",
       "D4         16.086536  13288.044662   385.962821   70072.856874  13.908671\n",
       "D5         16.580276  13900.689448   393.180444   70813.852434  13.850456\n",
       "E1         16.943199  14628.774238   408.567036   73123.241316  13.916066\n",
       "E2         17.356889  14976.750814   408.119104   75313.801645  14.244495\n",
       "E3         17.722965  15456.395349   418.928101   77025.252907  13.677558\n",
       "E4         18.182358  16549.941038   441.619198   76852.545000  14.161486\n",
       "E5         18.618010  18102.777778   485.504625   92479.154341  14.263953\n",
       "F1         19.085738  17861.885246   479.642131   82561.240262  13.968393\n",
       "F2         19.284077  17497.424893   478.560858   81197.680343  14.252747\n",
       "F3         19.945402  18251.149425   499.578621   87023.843276  14.333161\n",
       "F4         20.206358  17652.980132   483.513510   79169.306225  14.446358\n",
       "F5         20.673009  20308.628319   567.104779   90986.848319  14.249912\n",
       "G1         20.960745  20088.031915   581.762553   88541.605957  12.711702\n",
       "G2         21.039221  20615.909091   576.679221   88348.492987  14.780909\n",
       "G3         21.489111  20046.666667   558.475778   91019.755556  15.766222\n",
       "G4         21.902407  20487.037037   581.146852  109275.918333  13.848889\n",
       "G5         21.803793  19708.620690   575.988966  105696.137931  14.000000"
      ]
     },
     "execution_count": 83,
     "metadata": {},
     "output_type": "execute_result"
    }
   ],
   "source": [
    "loan_bi=loan_df.loc[:,[\"sub_grade\",\"int_rate\",\"loan_amnt\",\"installment\",\"annual_inc\",\"dti\"]]\n",
    "loan_bi.groupby(by=\"sub_grade\").mean()"
   ]
  },
  {
   "cell_type": "code",
   "execution_count": 84,
   "id": "2551b4fa",
   "metadata": {},
   "outputs": [
    {
     "data": {
      "text/html": [
       "<div>\n",
       "<style scoped>\n",
       "    .dataframe tbody tr th:only-of-type {\n",
       "        vertical-align: middle;\n",
       "    }\n",
       "\n",
       "    .dataframe tbody tr th {\n",
       "        vertical-align: top;\n",
       "    }\n",
       "\n",
       "    .dataframe thead th {\n",
       "        text-align: right;\n",
       "    }\n",
       "</style>\n",
       "<table border=\"1\" class=\"dataframe\">\n",
       "  <thead>\n",
       "    <tr style=\"text-align: right;\">\n",
       "      <th></th>\n",
       "      <th>int_rate</th>\n",
       "      <th>loan_amnt</th>\n",
       "      <th>installment</th>\n",
       "      <th>annual_inc</th>\n",
       "      <th>dti</th>\n",
       "    </tr>\n",
       "    <tr>\n",
       "      <th>term</th>\n",
       "      <th></th>\n",
       "      <th></th>\n",
       "      <th></th>\n",
       "      <th></th>\n",
       "      <th></th>\n",
       "    </tr>\n",
       "  </thead>\n",
       "  <tbody>\n",
       "    <tr>\n",
       "      <th>36 months</th>\n",
       "      <td>11.004656</td>\n",
       "      <td>9592.936314</td>\n",
       "      <td>311.693307</td>\n",
       "      <td>67169.950441</td>\n",
       "      <td>12.982538</td>\n",
       "    </tr>\n",
       "    <tr>\n",
       "      <th>60 months</th>\n",
       "      <td>14.778791</td>\n",
       "      <td>15509.442569</td>\n",
       "      <td>355.527338</td>\n",
       "      <td>73712.795344</td>\n",
       "      <td>14.163281</td>\n",
       "    </tr>\n",
       "  </tbody>\n",
       "</table>\n",
       "</div>"
      ],
      "text/plain": [
       "            int_rate     loan_amnt  installment    annual_inc        dti\n",
       "term                                                                    \n",
       "36 months  11.004656   9592.936314   311.693307  67169.950441  12.982538\n",
       "60 months  14.778791  15509.442569   355.527338  73712.795344  14.163281"
      ]
     },
     "execution_count": 84,
     "metadata": {},
     "output_type": "execute_result"
    }
   ],
   "source": [
    "loan_bi=loan_df.loc[:,[\"term\",\"int_rate\",\"loan_amnt\",\"installment\",\"annual_inc\",\"dti\"]]\n",
    "loan_bi.groupby(by=\"term\").mean()"
   ]
  },
  {
   "cell_type": "code",
   "execution_count": 85,
   "id": "aa83491d",
   "metadata": {},
   "outputs": [
    {
     "data": {
      "text/html": [
       "<div>\n",
       "<style scoped>\n",
       "    .dataframe tbody tr th:only-of-type {\n",
       "        vertical-align: middle;\n",
       "    }\n",
       "\n",
       "    .dataframe tbody tr th {\n",
       "        vertical-align: top;\n",
       "    }\n",
       "\n",
       "    .dataframe thead th {\n",
       "        text-align: right;\n",
       "    }\n",
       "</style>\n",
       "<table border=\"1\" class=\"dataframe\">\n",
       "  <thead>\n",
       "    <tr style=\"text-align: right;\">\n",
       "      <th></th>\n",
       "      <th>int_rate</th>\n",
       "      <th>loan_amnt</th>\n",
       "      <th>installment</th>\n",
       "      <th>annual_inc</th>\n",
       "      <th>dti</th>\n",
       "    </tr>\n",
       "    <tr>\n",
       "      <th>emp_length</th>\n",
       "      <th></th>\n",
       "      <th></th>\n",
       "      <th></th>\n",
       "      <th></th>\n",
       "      <th></th>\n",
       "    </tr>\n",
       "  </thead>\n",
       "  <tbody>\n",
       "    <tr>\n",
       "      <th>1</th>\n",
       "      <td>11.916058</td>\n",
       "      <td>9772.098476</td>\n",
       "      <td>292.953548</td>\n",
       "      <td>61382.661478</td>\n",
       "      <td>12.746527</td>\n",
       "    </tr>\n",
       "    <tr>\n",
       "      <th>10</th>\n",
       "      <td>11.836024</td>\n",
       "      <td>12331.911039</td>\n",
       "      <td>350.255484</td>\n",
       "      <td>77699.422804</td>\n",
       "      <td>13.551419</td>\n",
       "    </tr>\n",
       "    <tr>\n",
       "      <th>2</th>\n",
       "      <td>11.998411</td>\n",
       "      <td>10124.557213</td>\n",
       "      <td>302.464987</td>\n",
       "      <td>63097.114847</td>\n",
       "      <td>13.057730</td>\n",
       "    </tr>\n",
       "    <tr>\n",
       "      <th>3</th>\n",
       "      <td>11.956859</td>\n",
       "      <td>10636.746012</td>\n",
       "      <td>313.030376</td>\n",
       "      <td>66694.122363</td>\n",
       "      <td>13.151508</td>\n",
       "    </tr>\n",
       "    <tr>\n",
       "      <th>4</th>\n",
       "      <td>12.085838</td>\n",
       "      <td>10839.332735</td>\n",
       "      <td>319.701086</td>\n",
       "      <td>66615.882687</td>\n",
       "      <td>13.162609</td>\n",
       "    </tr>\n",
       "    <tr>\n",
       "      <th>5</th>\n",
       "      <td>11.966102</td>\n",
       "      <td>11114.081090</td>\n",
       "      <td>323.980006</td>\n",
       "      <td>68022.083303</td>\n",
       "      <td>13.385977</td>\n",
       "    </tr>\n",
       "    <tr>\n",
       "      <th>6</th>\n",
       "      <td>11.960789</td>\n",
       "      <td>11372.497694</td>\n",
       "      <td>327.112555</td>\n",
       "      <td>68014.232874</td>\n",
       "      <td>13.810839</td>\n",
       "    </tr>\n",
       "    <tr>\n",
       "      <th>7</th>\n",
       "      <td>12.087358</td>\n",
       "      <td>11565.108124</td>\n",
       "      <td>337.321648</td>\n",
       "      <td>69211.802291</td>\n",
       "      <td>13.653402</td>\n",
       "    </tr>\n",
       "    <tr>\n",
       "      <th>8</th>\n",
       "      <td>11.812718</td>\n",
       "      <td>11741.550523</td>\n",
       "      <td>339.850488</td>\n",
       "      <td>74425.050132</td>\n",
       "      <td>13.763728</td>\n",
       "    </tr>\n",
       "    <tr>\n",
       "      <th>9</th>\n",
       "      <td>11.833956</td>\n",
       "      <td>11903.303426</td>\n",
       "      <td>346.643711</td>\n",
       "      <td>74503.624584</td>\n",
       "      <td>13.500163</td>\n",
       "    </tr>\n",
       "  </tbody>\n",
       "</table>\n",
       "</div>"
      ],
      "text/plain": [
       "             int_rate     loan_amnt  installment    annual_inc        dti\n",
       "emp_length                                                               \n",
       "1           11.916058   9772.098476   292.953548  61382.661478  12.746527\n",
       "10          11.836024  12331.911039   350.255484  77699.422804  13.551419\n",
       "2           11.998411  10124.557213   302.464987  63097.114847  13.057730\n",
       "3           11.956859  10636.746012   313.030376  66694.122363  13.151508\n",
       "4           12.085838  10839.332735   319.701086  66615.882687  13.162609\n",
       "5           11.966102  11114.081090   323.980006  68022.083303  13.385977\n",
       "6           11.960789  11372.497694   327.112555  68014.232874  13.810839\n",
       "7           12.087358  11565.108124   337.321648  69211.802291  13.653402\n",
       "8           11.812718  11741.550523   339.850488  74425.050132  13.763728\n",
       "9           11.833956  11903.303426   346.643711  74503.624584  13.500163"
      ]
     },
     "execution_count": 85,
     "metadata": {},
     "output_type": "execute_result"
    }
   ],
   "source": [
    "loan_bi=loan_df.loc[:,[\"emp_length\",\"int_rate\",\"loan_amnt\",\"installment\",\"annual_inc\",\"dti\"]]\n",
    "loan_bi.groupby(by=\"emp_length\").mean()"
   ]
  },
  {
   "cell_type": "code",
   "execution_count": 86,
   "id": "1b16179a",
   "metadata": {},
   "outputs": [
    {
     "data": {
      "text/html": [
       "<div>\n",
       "<style scoped>\n",
       "    .dataframe tbody tr th:only-of-type {\n",
       "        vertical-align: middle;\n",
       "    }\n",
       "\n",
       "    .dataframe tbody tr th {\n",
       "        vertical-align: top;\n",
       "    }\n",
       "\n",
       "    .dataframe thead th {\n",
       "        text-align: right;\n",
       "    }\n",
       "</style>\n",
       "<table border=\"1\" class=\"dataframe\">\n",
       "  <thead>\n",
       "    <tr style=\"text-align: right;\">\n",
       "      <th></th>\n",
       "      <th>int_rate</th>\n",
       "      <th>loan_amnt</th>\n",
       "      <th>installment</th>\n",
       "      <th>annual_inc</th>\n",
       "      <th>dti</th>\n",
       "    </tr>\n",
       "    <tr>\n",
       "      <th>purpose</th>\n",
       "      <th></th>\n",
       "      <th></th>\n",
       "      <th></th>\n",
       "      <th></th>\n",
       "      <th></th>\n",
       "    </tr>\n",
       "  </thead>\n",
       "  <tbody>\n",
       "    <tr>\n",
       "      <th>car</th>\n",
       "      <td>10.457985</td>\n",
       "      <td>6746.731154</td>\n",
       "      <td>190.574596</td>\n",
       "      <td>61968.900294</td>\n",
       "      <td>11.084049</td>\n",
       "    </tr>\n",
       "    <tr>\n",
       "      <th>credit_card</th>\n",
       "      <td>11.623772</td>\n",
       "      <td>11571.414362</td>\n",
       "      <td>345.932278</td>\n",
       "      <td>70329.557048</td>\n",
       "      <td>14.564724</td>\n",
       "    </tr>\n",
       "    <tr>\n",
       "      <th>debt_consolidation</th>\n",
       "      <td>12.396510</td>\n",
       "      <td>12503.457491</td>\n",
       "      <td>364.114633</td>\n",
       "      <td>67078.554784</td>\n",
       "      <td>14.428327</td>\n",
       "    </tr>\n",
       "    <tr>\n",
       "      <th>educational</th>\n",
       "      <td>11.650831</td>\n",
       "      <td>6810.461538</td>\n",
       "      <td>218.109754</td>\n",
       "      <td>53471.374092</td>\n",
       "      <td>11.206185</td>\n",
       "    </tr>\n",
       "    <tr>\n",
       "      <th>home_improvement</th>\n",
       "      <td>11.288056</td>\n",
       "      <td>11308.000000</td>\n",
       "      <td>319.339482</td>\n",
       "      <td>89497.252675</td>\n",
       "      <td>11.119350</td>\n",
       "    </tr>\n",
       "    <tr>\n",
       "      <th>house</th>\n",
       "      <td>12.163569</td>\n",
       "      <td>12753.405995</td>\n",
       "      <td>367.046403</td>\n",
       "      <td>76757.602616</td>\n",
       "      <td>10.575341</td>\n",
       "    </tr>\n",
       "    <tr>\n",
       "      <th>major_purchase</th>\n",
       "      <td>10.796698</td>\n",
       "      <td>8072.604651</td>\n",
       "      <td>235.374219</td>\n",
       "      <td>66501.616926</td>\n",
       "      <td>10.769572</td>\n",
       "    </tr>\n",
       "    <tr>\n",
       "      <th>medical</th>\n",
       "      <td>11.432276</td>\n",
       "      <td>8122.760646</td>\n",
       "      <td>234.798355</td>\n",
       "      <td>67497.793877</td>\n",
       "      <td>12.197063</td>\n",
       "    </tr>\n",
       "    <tr>\n",
       "      <th>moving</th>\n",
       "      <td>11.531771</td>\n",
       "      <td>6568.012153</td>\n",
       "      <td>194.422240</td>\n",
       "      <td>61975.804080</td>\n",
       "      <td>11.665990</td>\n",
       "    </tr>\n",
       "    <tr>\n",
       "      <th>other</th>\n",
       "      <td>11.715780</td>\n",
       "      <td>7936.416559</td>\n",
       "      <td>235.471296</td>\n",
       "      <td>62834.737092</td>\n",
       "      <td>12.239167</td>\n",
       "    </tr>\n",
       "    <tr>\n",
       "      <th>renewable_energy</th>\n",
       "      <td>11.437059</td>\n",
       "      <td>8537.990196</td>\n",
       "      <td>246.504804</td>\n",
       "      <td>77181.084608</td>\n",
       "      <td>12.104314</td>\n",
       "    </tr>\n",
       "    <tr>\n",
       "      <th>small_business</th>\n",
       "      <td>12.895901</td>\n",
       "      <td>13365.108324</td>\n",
       "      <td>383.856642</td>\n",
       "      <td>75227.858444</td>\n",
       "      <td>11.095718</td>\n",
       "    </tr>\n",
       "    <tr>\n",
       "      <th>vacation</th>\n",
       "      <td>10.828240</td>\n",
       "      <td>5417.600000</td>\n",
       "      <td>161.850373</td>\n",
       "      <td>59126.436400</td>\n",
       "      <td>12.244987</td>\n",
       "    </tr>\n",
       "    <tr>\n",
       "      <th>wedding</th>\n",
       "      <td>11.780389</td>\n",
       "      <td>9755.858531</td>\n",
       "      <td>291.760173</td>\n",
       "      <td>68423.690119</td>\n",
       "      <td>12.335022</td>\n",
       "    </tr>\n",
       "  </tbody>\n",
       "</table>\n",
       "</div>"
      ],
      "text/plain": [
       "                     int_rate     loan_amnt  installment    annual_inc  \\\n",
       "purpose                                                                  \n",
       "car                 10.457985   6746.731154   190.574596  61968.900294   \n",
       "credit_card         11.623772  11571.414362   345.932278  70329.557048   \n",
       "debt_consolidation  12.396510  12503.457491   364.114633  67078.554784   \n",
       "educational         11.650831   6810.461538   218.109754  53471.374092   \n",
       "home_improvement    11.288056  11308.000000   319.339482  89497.252675   \n",
       "house               12.163569  12753.405995   367.046403  76757.602616   \n",
       "major_purchase      10.796698   8072.604651   235.374219  66501.616926   \n",
       "medical             11.432276   8122.760646   234.798355  67497.793877   \n",
       "moving              11.531771   6568.012153   194.422240  61975.804080   \n",
       "other               11.715780   7936.416559   235.471296  62834.737092   \n",
       "renewable_energy    11.437059   8537.990196   246.504804  77181.084608   \n",
       "small_business      12.895901  13365.108324   383.856642  75227.858444   \n",
       "vacation            10.828240   5417.600000   161.850373  59126.436400   \n",
       "wedding             11.780389   9755.858531   291.760173  68423.690119   \n",
       "\n",
       "                          dti  \n",
       "purpose                        \n",
       "car                 11.084049  \n",
       "credit_card         14.564724  \n",
       "debt_consolidation  14.428327  \n",
       "educational         11.206185  \n",
       "home_improvement    11.119350  \n",
       "house               10.575341  \n",
       "major_purchase      10.769572  \n",
       "medical             12.197063  \n",
       "moving              11.665990  \n",
       "other               12.239167  \n",
       "renewable_energy    12.104314  \n",
       "small_business      11.095718  \n",
       "vacation            12.244987  \n",
       "wedding             12.335022  "
      ]
     },
     "execution_count": 86,
     "metadata": {},
     "output_type": "execute_result"
    }
   ],
   "source": [
    "loan_bi=loan_df.loc[:,[\"purpose\",\"int_rate\",\"loan_amnt\",\"installment\",\"annual_inc\",\"dti\"]]\n",
    "loan_bi.groupby(by=\"purpose\").mean()"
   ]
  },
  {
   "cell_type": "code",
   "execution_count": 87,
   "id": "fa6c7c83",
   "metadata": {},
   "outputs": [],
   "source": [
    "loan_numeric=loan_df.select_dtypes(include=[\"float64\",\"int64\"])"
   ]
  },
  {
   "cell_type": "code",
   "execution_count": 88,
   "id": "6a9543fc",
   "metadata": {
    "scrolled": true
   },
   "outputs": [
    {
     "data": {
      "text/html": [
       "<div>\n",
       "<style scoped>\n",
       "    .dataframe tbody tr th:only-of-type {\n",
       "        vertical-align: middle;\n",
       "    }\n",
       "\n",
       "    .dataframe tbody tr th {\n",
       "        vertical-align: top;\n",
       "    }\n",
       "\n",
       "    .dataframe thead th {\n",
       "        text-align: right;\n",
       "    }\n",
       "</style>\n",
       "<table border=\"1\" class=\"dataframe\">\n",
       "  <thead>\n",
       "    <tr style=\"text-align: right;\">\n",
       "      <th></th>\n",
       "      <th>id</th>\n",
       "      <th>member_id</th>\n",
       "      <th>loan_amnt</th>\n",
       "      <th>funded_amnt</th>\n",
       "      <th>funded_amnt_inv</th>\n",
       "      <th>int_rate</th>\n",
       "      <th>installment</th>\n",
       "      <th>annual_inc</th>\n",
       "      <th>dti</th>\n",
       "      <th>delinq_2yrs</th>\n",
       "      <th>...</th>\n",
       "      <th>revol_bal</th>\n",
       "      <th>total_acc</th>\n",
       "      <th>total_pymnt</th>\n",
       "      <th>total_pymnt_inv</th>\n",
       "      <th>total_rec_prncp</th>\n",
       "      <th>total_rec_int</th>\n",
       "      <th>total_rec_late_fee</th>\n",
       "      <th>recoveries</th>\n",
       "      <th>collection_recovery_fee</th>\n",
       "      <th>pub_rec_bankruptcies</th>\n",
       "    </tr>\n",
       "  </thead>\n",
       "  <tbody>\n",
       "    <tr>\n",
       "      <th>id</th>\n",
       "      <td>1.000000</td>\n",
       "      <td>0.993534</td>\n",
       "      <td>0.120614</td>\n",
       "      <td>0.131283</td>\n",
       "      <td>0.231603</td>\n",
       "      <td>0.053936</td>\n",
       "      <td>0.076088</td>\n",
       "      <td>0.005572</td>\n",
       "      <td>0.091785</td>\n",
       "      <td>-0.008417</td>\n",
       "      <td>...</td>\n",
       "      <td>0.001357</td>\n",
       "      <td>0.039902</td>\n",
       "      <td>0.110432</td>\n",
       "      <td>0.194832</td>\n",
       "      <td>0.092979</td>\n",
       "      <td>0.123268</td>\n",
       "      <td>-0.055789</td>\n",
       "      <td>0.038686</td>\n",
       "      <td>-0.010916</td>\n",
       "      <td>-0.007997</td>\n",
       "    </tr>\n",
       "    <tr>\n",
       "      <th>member_id</th>\n",
       "      <td>0.993534</td>\n",
       "      <td>1.000000</td>\n",
       "      <td>0.120393</td>\n",
       "      <td>0.130307</td>\n",
       "      <td>0.241324</td>\n",
       "      <td>0.050808</td>\n",
       "      <td>0.070918</td>\n",
       "      <td>0.006442</td>\n",
       "      <td>0.092910</td>\n",
       "      <td>-0.007905</td>\n",
       "      <td>...</td>\n",
       "      <td>-0.001983</td>\n",
       "      <td>0.042217</td>\n",
       "      <td>0.111810</td>\n",
       "      <td>0.205195</td>\n",
       "      <td>0.093773</td>\n",
       "      <td>0.126660</td>\n",
       "      <td>-0.058497</td>\n",
       "      <td>0.036526</td>\n",
       "      <td>-0.012831</td>\n",
       "      <td>-0.007346</td>\n",
       "    </tr>\n",
       "    <tr>\n",
       "      <th>loan_amnt</th>\n",
       "      <td>0.120614</td>\n",
       "      <td>0.120393</td>\n",
       "      <td>1.000000</td>\n",
       "      <td>0.981790</td>\n",
       "      <td>0.937922</td>\n",
       "      <td>0.301265</td>\n",
       "      <td>0.932260</td>\n",
       "      <td>0.268999</td>\n",
       "      <td>0.062436</td>\n",
       "      <td>-0.031951</td>\n",
       "      <td>...</td>\n",
       "      <td>0.314022</td>\n",
       "      <td>0.256179</td>\n",
       "      <td>0.881910</td>\n",
       "      <td>0.847635</td>\n",
       "      <td>0.845870</td>\n",
       "      <td>0.728343</td>\n",
       "      <td>0.047103</td>\n",
       "      <td>0.142789</td>\n",
       "      <td>0.077005</td>\n",
       "      <td>-0.035981</td>\n",
       "    </tr>\n",
       "    <tr>\n",
       "      <th>funded_amnt</th>\n",
       "      <td>0.131283</td>\n",
       "      <td>0.130307</td>\n",
       "      <td>0.981790</td>\n",
       "      <td>1.000000</td>\n",
       "      <td>0.956172</td>\n",
       "      <td>0.304930</td>\n",
       "      <td>0.958035</td>\n",
       "      <td>0.264798</td>\n",
       "      <td>0.062194</td>\n",
       "      <td>-0.031866</td>\n",
       "      <td>...</td>\n",
       "      <td>0.306501</td>\n",
       "      <td>0.250551</td>\n",
       "      <td>0.898709</td>\n",
       "      <td>0.864501</td>\n",
       "      <td>0.864082</td>\n",
       "      <td>0.736654</td>\n",
       "      <td>0.049465</td>\n",
       "      <td>0.143452</td>\n",
       "      <td>0.078769</td>\n",
       "      <td>-0.036995</td>\n",
       "    </tr>\n",
       "    <tr>\n",
       "      <th>funded_amnt_inv</th>\n",
       "      <td>0.231603</td>\n",
       "      <td>0.241324</td>\n",
       "      <td>0.937922</td>\n",
       "      <td>0.956172</td>\n",
       "      <td>1.000000</td>\n",
       "      <td>0.297473</td>\n",
       "      <td>0.905464</td>\n",
       "      <td>0.251981</td>\n",
       "      <td>0.070663</td>\n",
       "      <td>-0.038171</td>\n",
       "      <td>...</td>\n",
       "      <td>0.286265</td>\n",
       "      <td>0.242715</td>\n",
       "      <td>0.874730</td>\n",
       "      <td>0.909127</td>\n",
       "      <td>0.838587</td>\n",
       "      <td>0.726736</td>\n",
       "      <td>0.029379</td>\n",
       "      <td>0.130997</td>\n",
       "      <td>0.064282</td>\n",
       "      <td>-0.041193</td>\n",
       "    </tr>\n",
       "    <tr>\n",
       "      <th>int_rate</th>\n",
       "      <td>0.053936</td>\n",
       "      <td>0.050808</td>\n",
       "      <td>0.301265</td>\n",
       "      <td>0.304930</td>\n",
       "      <td>0.297473</td>\n",
       "      <td>1.000000</td>\n",
       "      <td>0.277203</td>\n",
       "      <td>0.048899</td>\n",
       "      <td>0.110913</td>\n",
       "      <td>0.158479</td>\n",
       "      <td>...</td>\n",
       "      <td>0.094179</td>\n",
       "      <td>-0.046539</td>\n",
       "      <td>0.290661</td>\n",
       "      <td>0.284932</td>\n",
       "      <td>0.174717</td>\n",
       "      <td>0.521233</td>\n",
       "      <td>0.094319</td>\n",
       "      <td>0.128596</td>\n",
       "      <td>0.070013</td>\n",
       "      <td>0.083027</td>\n",
       "    </tr>\n",
       "    <tr>\n",
       "      <th>installment</th>\n",
       "      <td>0.076088</td>\n",
       "      <td>0.070918</td>\n",
       "      <td>0.932260</td>\n",
       "      <td>0.958035</td>\n",
       "      <td>0.905464</td>\n",
       "      <td>0.277203</td>\n",
       "      <td>1.000000</td>\n",
       "      <td>0.267842</td>\n",
       "      <td>0.052038</td>\n",
       "      <td>-0.019755</td>\n",
       "      <td>...</td>\n",
       "      <td>0.309501</td>\n",
       "      <td>0.229860</td>\n",
       "      <td>0.858493</td>\n",
       "      <td>0.817665</td>\n",
       "      <td>0.847762</td>\n",
       "      <td>0.642655</td>\n",
       "      <td>0.058387</td>\n",
       "      <td>0.121463</td>\n",
       "      <td>0.077519</td>\n",
       "      <td>-0.033361</td>\n",
       "    </tr>\n",
       "    <tr>\n",
       "      <th>annual_inc</th>\n",
       "      <td>0.005572</td>\n",
       "      <td>0.006442</td>\n",
       "      <td>0.268999</td>\n",
       "      <td>0.264798</td>\n",
       "      <td>0.251981</td>\n",
       "      <td>0.048899</td>\n",
       "      <td>0.267842</td>\n",
       "      <td>1.000000</td>\n",
       "      <td>-0.121530</td>\n",
       "      <td>0.022229</td>\n",
       "      <td>...</td>\n",
       "      <td>0.277374</td>\n",
       "      <td>0.234534</td>\n",
       "      <td>0.256313</td>\n",
       "      <td>0.245198</td>\n",
       "      <td>0.256848</td>\n",
       "      <td>0.185056</td>\n",
       "      <td>0.006814</td>\n",
       "      <td>0.022184</td>\n",
       "      <td>0.015981</td>\n",
       "      <td>-0.016224</td>\n",
       "    </tr>\n",
       "    <tr>\n",
       "      <th>dti</th>\n",
       "      <td>0.091785</td>\n",
       "      <td>0.092910</td>\n",
       "      <td>0.062436</td>\n",
       "      <td>0.062194</td>\n",
       "      <td>0.070663</td>\n",
       "      <td>0.110913</td>\n",
       "      <td>0.052038</td>\n",
       "      <td>-0.121530</td>\n",
       "      <td>1.000000</td>\n",
       "      <td>-0.033347</td>\n",
       "      <td>...</td>\n",
       "      <td>0.228090</td>\n",
       "      <td>0.229119</td>\n",
       "      <td>0.059274</td>\n",
       "      <td>0.066277</td>\n",
       "      <td>0.036755</td>\n",
       "      <td>0.103104</td>\n",
       "      <td>-0.011412</td>\n",
       "      <td>0.026162</td>\n",
       "      <td>0.011744</td>\n",
       "      <td>0.005966</td>\n",
       "    </tr>\n",
       "    <tr>\n",
       "      <th>delinq_2yrs</th>\n",
       "      <td>-0.008417</td>\n",
       "      <td>-0.007905</td>\n",
       "      <td>-0.031951</td>\n",
       "      <td>-0.031866</td>\n",
       "      <td>-0.038171</td>\n",
       "      <td>0.158479</td>\n",
       "      <td>-0.019755</td>\n",
       "      <td>0.022229</td>\n",
       "      <td>-0.033347</td>\n",
       "      <td>1.000000</td>\n",
       "      <td>...</td>\n",
       "      <td>-0.054437</td>\n",
       "      <td>0.066994</td>\n",
       "      <td>-0.023130</td>\n",
       "      <td>-0.029608</td>\n",
       "      <td>-0.038447</td>\n",
       "      <td>0.023778</td>\n",
       "      <td>0.028772</td>\n",
       "      <td>0.012443</td>\n",
       "      <td>0.014077</td>\n",
       "      <td>0.003404</td>\n",
       "    </tr>\n",
       "    <tr>\n",
       "      <th>inq_last_6mths</th>\n",
       "      <td>-0.041021</td>\n",
       "      <td>-0.045879</td>\n",
       "      <td>0.012940</td>\n",
       "      <td>0.012857</td>\n",
       "      <td>-0.002800</td>\n",
       "      <td>0.133362</td>\n",
       "      <td>0.011014</td>\n",
       "      <td>0.035465</td>\n",
       "      <td>0.002178</td>\n",
       "      <td>0.008733</td>\n",
       "      <td>...</td>\n",
       "      <td>-0.020787</td>\n",
       "      <td>0.113516</td>\n",
       "      <td>-0.008244</td>\n",
       "      <td>-0.018589</td>\n",
       "      <td>-0.021328</td>\n",
       "      <td>0.026549</td>\n",
       "      <td>0.030741</td>\n",
       "      <td>0.018899</td>\n",
       "      <td>0.012388</td>\n",
       "      <td>0.015517</td>\n",
       "    </tr>\n",
       "    <tr>\n",
       "      <th>open_acc</th>\n",
       "      <td>0.016256</td>\n",
       "      <td>0.013804</td>\n",
       "      <td>0.177200</td>\n",
       "      <td>0.175682</td>\n",
       "      <td>0.162738</td>\n",
       "      <td>0.006022</td>\n",
       "      <td>0.172893</td>\n",
       "      <td>0.156927</td>\n",
       "      <td>0.287849</td>\n",
       "      <td>0.011649</td>\n",
       "      <td>...</td>\n",
       "      <td>0.288055</td>\n",
       "      <td>0.687260</td>\n",
       "      <td>0.162141</td>\n",
       "      <td>0.152008</td>\n",
       "      <td>0.159997</td>\n",
       "      <td>0.123478</td>\n",
       "      <td>-0.018827</td>\n",
       "      <td>0.017241</td>\n",
       "      <td>0.006674</td>\n",
       "      <td>0.005803</td>\n",
       "    </tr>\n",
       "    <tr>\n",
       "      <th>pub_rec</th>\n",
       "      <td>-0.017683</td>\n",
       "      <td>-0.017066</td>\n",
       "      <td>-0.049997</td>\n",
       "      <td>-0.050576</td>\n",
       "      <td>-0.051470</td>\n",
       "      <td>0.098635</td>\n",
       "      <td>-0.045706</td>\n",
       "      <td>-0.017864</td>\n",
       "      <td>-0.004742</td>\n",
       "      <td>0.007623</td>\n",
       "      <td>...</td>\n",
       "      <td>-0.060502</td>\n",
       "      <td>-0.023494</td>\n",
       "      <td>-0.052840</td>\n",
       "      <td>-0.053077</td>\n",
       "      <td>-0.064362</td>\n",
       "      <td>-0.004312</td>\n",
       "      <td>-0.002108</td>\n",
       "      <td>-0.005800</td>\n",
       "      <td>-0.005731</td>\n",
       "      <td>0.845938</td>\n",
       "    </tr>\n",
       "    <tr>\n",
       "      <th>revol_bal</th>\n",
       "      <td>0.001357</td>\n",
       "      <td>-0.001983</td>\n",
       "      <td>0.314022</td>\n",
       "      <td>0.306501</td>\n",
       "      <td>0.286265</td>\n",
       "      <td>0.094179</td>\n",
       "      <td>0.309501</td>\n",
       "      <td>0.277374</td>\n",
       "      <td>0.228090</td>\n",
       "      <td>-0.054437</td>\n",
       "      <td>...</td>\n",
       "      <td>1.000000</td>\n",
       "      <td>0.312634</td>\n",
       "      <td>0.289293</td>\n",
       "      <td>0.273033</td>\n",
       "      <td>0.276761</td>\n",
       "      <td>0.241979</td>\n",
       "      <td>0.005853</td>\n",
       "      <td>0.043593</td>\n",
       "      <td>0.023254</td>\n",
       "      <td>-0.048572</td>\n",
       "    </tr>\n",
       "    <tr>\n",
       "      <th>total_acc</th>\n",
       "      <td>0.039902</td>\n",
       "      <td>0.042217</td>\n",
       "      <td>0.256179</td>\n",
       "      <td>0.250551</td>\n",
       "      <td>0.242715</td>\n",
       "      <td>-0.046539</td>\n",
       "      <td>0.229860</td>\n",
       "      <td>0.234534</td>\n",
       "      <td>0.229119</td>\n",
       "      <td>0.066994</td>\n",
       "      <td>...</td>\n",
       "      <td>0.312634</td>\n",
       "      <td>1.000000</td>\n",
       "      <td>0.225342</td>\n",
       "      <td>0.219403</td>\n",
       "      <td>0.230140</td>\n",
       "      <td>0.148772</td>\n",
       "      <td>-0.024376</td>\n",
       "      <td>0.024024</td>\n",
       "      <td>0.010952</td>\n",
       "      <td>-0.011060</td>\n",
       "    </tr>\n",
       "    <tr>\n",
       "      <th>total_pymnt</th>\n",
       "      <td>0.110432</td>\n",
       "      <td>0.111810</td>\n",
       "      <td>0.881910</td>\n",
       "      <td>0.898709</td>\n",
       "      <td>0.874730</td>\n",
       "      <td>0.290661</td>\n",
       "      <td>0.858493</td>\n",
       "      <td>0.256313</td>\n",
       "      <td>0.059274</td>\n",
       "      <td>-0.023130</td>\n",
       "      <td>...</td>\n",
       "      <td>0.289293</td>\n",
       "      <td>0.225342</td>\n",
       "      <td>1.000000</td>\n",
       "      <td>0.968580</td>\n",
       "      <td>0.973542</td>\n",
       "      <td>0.822434</td>\n",
       "      <td>0.014293</td>\n",
       "      <td>0.029515</td>\n",
       "      <td>0.028329</td>\n",
       "      <td>-0.043163</td>\n",
       "    </tr>\n",
       "    <tr>\n",
       "      <th>total_pymnt_inv</th>\n",
       "      <td>0.194832</td>\n",
       "      <td>0.205195</td>\n",
       "      <td>0.847635</td>\n",
       "      <td>0.864501</td>\n",
       "      <td>0.909127</td>\n",
       "      <td>0.284932</td>\n",
       "      <td>0.817665</td>\n",
       "      <td>0.245198</td>\n",
       "      <td>0.066277</td>\n",
       "      <td>-0.029608</td>\n",
       "      <td>...</td>\n",
       "      <td>0.273033</td>\n",
       "      <td>0.219403</td>\n",
       "      <td>0.968580</td>\n",
       "      <td>1.000000</td>\n",
       "      <td>0.940299</td>\n",
       "      <td>0.805936</td>\n",
       "      <td>-0.000048</td>\n",
       "      <td>0.023406</td>\n",
       "      <td>0.018542</td>\n",
       "      <td>-0.046436</td>\n",
       "    </tr>\n",
       "    <tr>\n",
       "      <th>total_rec_prncp</th>\n",
       "      <td>0.092979</td>\n",
       "      <td>0.093773</td>\n",
       "      <td>0.845870</td>\n",
       "      <td>0.864082</td>\n",
       "      <td>0.838587</td>\n",
       "      <td>0.174717</td>\n",
       "      <td>0.847762</td>\n",
       "      <td>0.256848</td>\n",
       "      <td>0.036755</td>\n",
       "      <td>-0.038447</td>\n",
       "      <td>...</td>\n",
       "      <td>0.276761</td>\n",
       "      <td>0.230140</td>\n",
       "      <td>0.973542</td>\n",
       "      <td>0.940299</td>\n",
       "      <td>1.000000</td>\n",
       "      <td>0.683521</td>\n",
       "      <td>-0.019563</td>\n",
       "      <td>-0.094106</td>\n",
       "      <td>-0.058224</td>\n",
       "      <td>-0.053316</td>\n",
       "    </tr>\n",
       "    <tr>\n",
       "      <th>total_rec_int</th>\n",
       "      <td>0.123268</td>\n",
       "      <td>0.126660</td>\n",
       "      <td>0.728343</td>\n",
       "      <td>0.736654</td>\n",
       "      <td>0.726736</td>\n",
       "      <td>0.521233</td>\n",
       "      <td>0.642655</td>\n",
       "      <td>0.185056</td>\n",
       "      <td>0.103104</td>\n",
       "      <td>0.023778</td>\n",
       "      <td>...</td>\n",
       "      <td>0.241979</td>\n",
       "      <td>0.148772</td>\n",
       "      <td>0.822434</td>\n",
       "      <td>0.805936</td>\n",
       "      <td>0.683521</td>\n",
       "      <td>1.000000</td>\n",
       "      <td>0.077506</td>\n",
       "      <td>0.092178</td>\n",
       "      <td>0.041989</td>\n",
       "      <td>-0.001412</td>\n",
       "    </tr>\n",
       "    <tr>\n",
       "      <th>total_rec_late_fee</th>\n",
       "      <td>-0.055789</td>\n",
       "      <td>-0.058497</td>\n",
       "      <td>0.047103</td>\n",
       "      <td>0.049465</td>\n",
       "      <td>0.029379</td>\n",
       "      <td>0.094319</td>\n",
       "      <td>0.058387</td>\n",
       "      <td>0.006814</td>\n",
       "      <td>-0.011412</td>\n",
       "      <td>0.028772</td>\n",
       "      <td>...</td>\n",
       "      <td>0.005853</td>\n",
       "      <td>-0.024376</td>\n",
       "      <td>0.014293</td>\n",
       "      <td>-0.000048</td>\n",
       "      <td>-0.019563</td>\n",
       "      <td>0.077506</td>\n",
       "      <td>1.000000</td>\n",
       "      <td>0.100952</td>\n",
       "      <td>0.094155</td>\n",
       "      <td>-0.005759</td>\n",
       "    </tr>\n",
       "    <tr>\n",
       "      <th>recoveries</th>\n",
       "      <td>0.038686</td>\n",
       "      <td>0.036526</td>\n",
       "      <td>0.142789</td>\n",
       "      <td>0.143452</td>\n",
       "      <td>0.130997</td>\n",
       "      <td>0.128596</td>\n",
       "      <td>0.121463</td>\n",
       "      <td>0.022184</td>\n",
       "      <td>0.026162</td>\n",
       "      <td>0.012443</td>\n",
       "      <td>...</td>\n",
       "      <td>0.043593</td>\n",
       "      <td>0.024024</td>\n",
       "      <td>0.029515</td>\n",
       "      <td>0.023406</td>\n",
       "      <td>-0.094106</td>\n",
       "      <td>0.092178</td>\n",
       "      <td>0.100952</td>\n",
       "      <td>1.000000</td>\n",
       "      <td>0.796782</td>\n",
       "      <td>-0.004866</td>\n",
       "    </tr>\n",
       "    <tr>\n",
       "      <th>collection_recovery_fee</th>\n",
       "      <td>-0.010916</td>\n",
       "      <td>-0.012831</td>\n",
       "      <td>0.077005</td>\n",
       "      <td>0.078769</td>\n",
       "      <td>0.064282</td>\n",
       "      <td>0.070013</td>\n",
       "      <td>0.077519</td>\n",
       "      <td>0.015981</td>\n",
       "      <td>0.011744</td>\n",
       "      <td>0.014077</td>\n",
       "      <td>...</td>\n",
       "      <td>0.023254</td>\n",
       "      <td>0.010952</td>\n",
       "      <td>0.028329</td>\n",
       "      <td>0.018542</td>\n",
       "      <td>-0.058224</td>\n",
       "      <td>0.041989</td>\n",
       "      <td>0.094155</td>\n",
       "      <td>0.796782</td>\n",
       "      <td>1.000000</td>\n",
       "      <td>-0.005370</td>\n",
       "    </tr>\n",
       "    <tr>\n",
       "      <th>pub_rec_bankruptcies</th>\n",
       "      <td>-0.007997</td>\n",
       "      <td>-0.007346</td>\n",
       "      <td>-0.035981</td>\n",
       "      <td>-0.036995</td>\n",
       "      <td>-0.041193</td>\n",
       "      <td>0.083027</td>\n",
       "      <td>-0.033361</td>\n",
       "      <td>-0.016224</td>\n",
       "      <td>0.005966</td>\n",
       "      <td>0.003404</td>\n",
       "      <td>...</td>\n",
       "      <td>-0.048572</td>\n",
       "      <td>-0.011060</td>\n",
       "      <td>-0.043163</td>\n",
       "      <td>-0.046436</td>\n",
       "      <td>-0.053316</td>\n",
       "      <td>-0.001412</td>\n",
       "      <td>-0.005759</td>\n",
       "      <td>-0.004866</td>\n",
       "      <td>-0.005370</td>\n",
       "      <td>1.000000</td>\n",
       "    </tr>\n",
       "  </tbody>\n",
       "</table>\n",
       "<p>23 rows × 23 columns</p>\n",
       "</div>"
      ],
      "text/plain": [
       "                               id  member_id  loan_amnt  funded_amnt  \\\n",
       "id                       1.000000   0.993534   0.120614     0.131283   \n",
       "member_id                0.993534   1.000000   0.120393     0.130307   \n",
       "loan_amnt                0.120614   0.120393   1.000000     0.981790   \n",
       "funded_amnt              0.131283   0.130307   0.981790     1.000000   \n",
       "funded_amnt_inv          0.231603   0.241324   0.937922     0.956172   \n",
       "int_rate                 0.053936   0.050808   0.301265     0.304930   \n",
       "installment              0.076088   0.070918   0.932260     0.958035   \n",
       "annual_inc               0.005572   0.006442   0.268999     0.264798   \n",
       "dti                      0.091785   0.092910   0.062436     0.062194   \n",
       "delinq_2yrs             -0.008417  -0.007905  -0.031951    -0.031866   \n",
       "inq_last_6mths          -0.041021  -0.045879   0.012940     0.012857   \n",
       "open_acc                 0.016256   0.013804   0.177200     0.175682   \n",
       "pub_rec                 -0.017683  -0.017066  -0.049997    -0.050576   \n",
       "revol_bal                0.001357  -0.001983   0.314022     0.306501   \n",
       "total_acc                0.039902   0.042217   0.256179     0.250551   \n",
       "total_pymnt              0.110432   0.111810   0.881910     0.898709   \n",
       "total_pymnt_inv          0.194832   0.205195   0.847635     0.864501   \n",
       "total_rec_prncp          0.092979   0.093773   0.845870     0.864082   \n",
       "total_rec_int            0.123268   0.126660   0.728343     0.736654   \n",
       "total_rec_late_fee      -0.055789  -0.058497   0.047103     0.049465   \n",
       "recoveries               0.038686   0.036526   0.142789     0.143452   \n",
       "collection_recovery_fee -0.010916  -0.012831   0.077005     0.078769   \n",
       "pub_rec_bankruptcies    -0.007997  -0.007346  -0.035981    -0.036995   \n",
       "\n",
       "                         funded_amnt_inv  int_rate  installment  annual_inc  \\\n",
       "id                              0.231603  0.053936     0.076088    0.005572   \n",
       "member_id                       0.241324  0.050808     0.070918    0.006442   \n",
       "loan_amnt                       0.937922  0.301265     0.932260    0.268999   \n",
       "funded_amnt                     0.956172  0.304930     0.958035    0.264798   \n",
       "funded_amnt_inv                 1.000000  0.297473     0.905464    0.251981   \n",
       "int_rate                        0.297473  1.000000     0.277203    0.048899   \n",
       "installment                     0.905464  0.277203     1.000000    0.267842   \n",
       "annual_inc                      0.251981  0.048899     0.267842    1.000000   \n",
       "dti                             0.070663  0.110913     0.052038   -0.121530   \n",
       "delinq_2yrs                    -0.038171  0.158479    -0.019755    0.022229   \n",
       "inq_last_6mths                 -0.002800  0.133362     0.011014    0.035465   \n",
       "open_acc                        0.162738  0.006022     0.172893    0.156927   \n",
       "pub_rec                        -0.051470  0.098635    -0.045706   -0.017864   \n",
       "revol_bal                       0.286265  0.094179     0.309501    0.277374   \n",
       "total_acc                       0.242715 -0.046539     0.229860    0.234534   \n",
       "total_pymnt                     0.874730  0.290661     0.858493    0.256313   \n",
       "total_pymnt_inv                 0.909127  0.284932     0.817665    0.245198   \n",
       "total_rec_prncp                 0.838587  0.174717     0.847762    0.256848   \n",
       "total_rec_int                   0.726736  0.521233     0.642655    0.185056   \n",
       "total_rec_late_fee              0.029379  0.094319     0.058387    0.006814   \n",
       "recoveries                      0.130997  0.128596     0.121463    0.022184   \n",
       "collection_recovery_fee         0.064282  0.070013     0.077519    0.015981   \n",
       "pub_rec_bankruptcies           -0.041193  0.083027    -0.033361   -0.016224   \n",
       "\n",
       "                              dti  delinq_2yrs  ...  revol_bal  total_acc  \\\n",
       "id                       0.091785    -0.008417  ...   0.001357   0.039902   \n",
       "member_id                0.092910    -0.007905  ...  -0.001983   0.042217   \n",
       "loan_amnt                0.062436    -0.031951  ...   0.314022   0.256179   \n",
       "funded_amnt              0.062194    -0.031866  ...   0.306501   0.250551   \n",
       "funded_amnt_inv          0.070663    -0.038171  ...   0.286265   0.242715   \n",
       "int_rate                 0.110913     0.158479  ...   0.094179  -0.046539   \n",
       "installment              0.052038    -0.019755  ...   0.309501   0.229860   \n",
       "annual_inc              -0.121530     0.022229  ...   0.277374   0.234534   \n",
       "dti                      1.000000    -0.033347  ...   0.228090   0.229119   \n",
       "delinq_2yrs             -0.033347     1.000000  ...  -0.054437   0.066994   \n",
       "inq_last_6mths           0.002178     0.008733  ...  -0.020787   0.113516   \n",
       "open_acc                 0.287849     0.011649  ...   0.288055   0.687260   \n",
       "pub_rec                 -0.004742     0.007623  ...  -0.060502  -0.023494   \n",
       "revol_bal                0.228090    -0.054437  ...   1.000000   0.312634   \n",
       "total_acc                0.229119     0.066994  ...   0.312634   1.000000   \n",
       "total_pymnt              0.059274    -0.023130  ...   0.289293   0.225342   \n",
       "total_pymnt_inv          0.066277    -0.029608  ...   0.273033   0.219403   \n",
       "total_rec_prncp          0.036755    -0.038447  ...   0.276761   0.230140   \n",
       "total_rec_int            0.103104     0.023778  ...   0.241979   0.148772   \n",
       "total_rec_late_fee      -0.011412     0.028772  ...   0.005853  -0.024376   \n",
       "recoveries               0.026162     0.012443  ...   0.043593   0.024024   \n",
       "collection_recovery_fee  0.011744     0.014077  ...   0.023254   0.010952   \n",
       "pub_rec_bankruptcies     0.005966     0.003404  ...  -0.048572  -0.011060   \n",
       "\n",
       "                         total_pymnt  total_pymnt_inv  total_rec_prncp  \\\n",
       "id                          0.110432         0.194832         0.092979   \n",
       "member_id                   0.111810         0.205195         0.093773   \n",
       "loan_amnt                   0.881910         0.847635         0.845870   \n",
       "funded_amnt                 0.898709         0.864501         0.864082   \n",
       "funded_amnt_inv             0.874730         0.909127         0.838587   \n",
       "int_rate                    0.290661         0.284932         0.174717   \n",
       "installment                 0.858493         0.817665         0.847762   \n",
       "annual_inc                  0.256313         0.245198         0.256848   \n",
       "dti                         0.059274         0.066277         0.036755   \n",
       "delinq_2yrs                -0.023130        -0.029608        -0.038447   \n",
       "inq_last_6mths             -0.008244        -0.018589        -0.021328   \n",
       "open_acc                    0.162141         0.152008         0.159997   \n",
       "pub_rec                    -0.052840        -0.053077        -0.064362   \n",
       "revol_bal                   0.289293         0.273033         0.276761   \n",
       "total_acc                   0.225342         0.219403         0.230140   \n",
       "total_pymnt                 1.000000         0.968580         0.973542   \n",
       "total_pymnt_inv             0.968580         1.000000         0.940299   \n",
       "total_rec_prncp             0.973542         0.940299         1.000000   \n",
       "total_rec_int               0.822434         0.805936         0.683521   \n",
       "total_rec_late_fee          0.014293        -0.000048        -0.019563   \n",
       "recoveries                  0.029515         0.023406        -0.094106   \n",
       "collection_recovery_fee     0.028329         0.018542        -0.058224   \n",
       "pub_rec_bankruptcies       -0.043163        -0.046436        -0.053316   \n",
       "\n",
       "                         total_rec_int  total_rec_late_fee  recoveries  \\\n",
       "id                            0.123268           -0.055789    0.038686   \n",
       "member_id                     0.126660           -0.058497    0.036526   \n",
       "loan_amnt                     0.728343            0.047103    0.142789   \n",
       "funded_amnt                   0.736654            0.049465    0.143452   \n",
       "funded_amnt_inv               0.726736            0.029379    0.130997   \n",
       "int_rate                      0.521233            0.094319    0.128596   \n",
       "installment                   0.642655            0.058387    0.121463   \n",
       "annual_inc                    0.185056            0.006814    0.022184   \n",
       "dti                           0.103104           -0.011412    0.026162   \n",
       "delinq_2yrs                   0.023778            0.028772    0.012443   \n",
       "inq_last_6mths                0.026549            0.030741    0.018899   \n",
       "open_acc                      0.123478           -0.018827    0.017241   \n",
       "pub_rec                      -0.004312           -0.002108   -0.005800   \n",
       "revol_bal                     0.241979            0.005853    0.043593   \n",
       "total_acc                     0.148772           -0.024376    0.024024   \n",
       "total_pymnt                   0.822434            0.014293    0.029515   \n",
       "total_pymnt_inv               0.805936           -0.000048    0.023406   \n",
       "total_rec_prncp               0.683521           -0.019563   -0.094106   \n",
       "total_rec_int                 1.000000            0.077506    0.092178   \n",
       "total_rec_late_fee            0.077506            1.000000    0.100952   \n",
       "recoveries                    0.092178            0.100952    1.000000   \n",
       "collection_recovery_fee       0.041989            0.094155    0.796782   \n",
       "pub_rec_bankruptcies         -0.001412           -0.005759   -0.004866   \n",
       "\n",
       "                         collection_recovery_fee  pub_rec_bankruptcies  \n",
       "id                                     -0.010916             -0.007997  \n",
       "member_id                              -0.012831             -0.007346  \n",
       "loan_amnt                               0.077005             -0.035981  \n",
       "funded_amnt                             0.078769             -0.036995  \n",
       "funded_amnt_inv                         0.064282             -0.041193  \n",
       "int_rate                                0.070013              0.083027  \n",
       "installment                             0.077519             -0.033361  \n",
       "annual_inc                              0.015981             -0.016224  \n",
       "dti                                     0.011744              0.005966  \n",
       "delinq_2yrs                             0.014077              0.003404  \n",
       "inq_last_6mths                          0.012388              0.015517  \n",
       "open_acc                                0.006674              0.005803  \n",
       "pub_rec                                -0.005731              0.845938  \n",
       "revol_bal                               0.023254             -0.048572  \n",
       "total_acc                               0.010952             -0.011060  \n",
       "total_pymnt                             0.028329             -0.043163  \n",
       "total_pymnt_inv                         0.018542             -0.046436  \n",
       "total_rec_prncp                        -0.058224             -0.053316  \n",
       "total_rec_int                           0.041989             -0.001412  \n",
       "total_rec_late_fee                      0.094155             -0.005759  \n",
       "recoveries                              0.796782             -0.004866  \n",
       "collection_recovery_fee                 1.000000             -0.005370  \n",
       "pub_rec_bankruptcies                   -0.005370              1.000000  \n",
       "\n",
       "[23 rows x 23 columns]"
      ]
     },
     "execution_count": 88,
     "metadata": {},
     "output_type": "execute_result"
    }
   ],
   "source": [
    "loan_numeric.corr()"
   ]
  },
  {
   "cell_type": "markdown",
   "id": "5dae8ae5",
   "metadata": {},
   "source": [
    "## Conclusion :\n"
   ]
  },
  {
   "cell_type": "markdown",
   "id": "1054c0ec",
   "metadata": {},
   "source": [
    "so the model here works primarily on the grades and sub grades higher the grade higher the interest rate <br>\n",
    "this how you can reduce the risk:\n",
    "get the higher grade people for lower rate of interset on higher loan_amount <br>\n",
    "get attarctive interset rate to higher grade and expand the base for certain purposes<br>\n",
    "employess working for ten years and above have lower rate of recoveries(peculiar)<br>\n"
   ]
  },
  {
   "cell_type": "code",
   "execution_count": null,
   "id": "9533b250",
   "metadata": {},
   "outputs": [],
   "source": []
  }
 ],
 "metadata": {
  "kernelspec": {
   "display_name": "Python 3 (ipykernel)",
   "language": "python",
   "name": "python3"
  },
  "language_info": {
   "codemirror_mode": {
    "name": "ipython",
    "version": 3
   },
   "file_extension": ".py",
   "mimetype": "text/x-python",
   "name": "python",
   "nbconvert_exporter": "python",
   "pygments_lexer": "ipython3",
   "version": "3.9.7"
  }
 },
 "nbformat": 4,
 "nbformat_minor": 5
}
